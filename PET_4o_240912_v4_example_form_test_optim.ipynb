{
 "cells": [
  {
   "cell_type": "code",
   "execution_count": 1,
   "id": "267f0232-9cfb-4943-9426-40a53c31904e",
   "metadata": {
    "tags": []
   },
   "outputs": [
    {
     "name": "stdout",
     "output_type": "stream",
     "text": [
      "Requirement already satisfied: pandas in /opt/conda/lib/python3.10/site-packages (2.2.1)\n",
      "Requirement already satisfied: openpyxl in /opt/conda/lib/python3.10/site-packages (3.1.5)\n",
      "Requirement already satisfied: python-dateutil>=2.8.2 in /opt/conda/lib/python3.10/site-packages (from pandas) (2.8.2)\n",
      "Requirement already satisfied: numpy<2,>=1.22.4 in /home/jovyan/.local/lib/python3.10/site-packages (from pandas) (1.23.5)\n",
      "Requirement already satisfied: tzdata>=2022.7 in /opt/conda/lib/python3.10/site-packages (from pandas) (2024.1)\n",
      "Requirement already satisfied: pytz>=2020.1 in /opt/conda/lib/python3.10/site-packages (from pandas) (2024.1)\n",
      "Requirement already satisfied: et-xmlfile in /home/jovyan/.local/lib/python3.10/site-packages (from openpyxl) (1.1.0)\n",
      "Requirement already satisfied: six>=1.5 in /opt/conda/lib/python3.10/site-packages (from python-dateutil>=2.8.2->pandas) (1.16.0)\n",
      "\u001b[33mWARNING: There was an error checking the latest version of pip.\u001b[0m\u001b[33m\n",
      "\u001b[0m"
     ]
    }
   ],
   "source": [
    "! pip install pandas openpyxl"
   ]
  },
  {
   "cell_type": "markdown",
   "id": "efb70c0d-8d2b-4b3f-a0f1-6ada7a05a59f",
   "metadata": {},
   "source": [
    "### lineup 정보 추가와 argument 오타수정"
   ]
  },
  {
   "cell_type": "code",
   "execution_count": 2,
   "id": "c737802a-c165-41f0-8a03-6d859556cb91",
   "metadata": {
    "tags": []
   },
   "outputs": [],
   "source": [
    "import json\n",
    "import pandas as pd\n",
    "import os\n",
    "import random\n",
    "\n",
    "import requests\n",
    "from tqdm import tqdm\n",
    "from IPython.display import display, Markdown\n",
    "import time\n",
    "import math\n",
    "\n",
    "import itertools\n",
    "import numpy as np"
   ]
  },
  {
   "cell_type": "code",
   "execution_count": 3,
   "id": "3cb943a7-4eac-47ca-81c4-fa145e820822",
   "metadata": {
    "tags": []
   },
   "outputs": [],
   "source": [
    "os.chdir(\"/home/jovyan/bacillus-shared-sllm\")"
   ]
  },
  {
   "cell_type": "code",
   "execution_count": 4,
   "id": "a76285f3-1721-445c-8657-81c111faf617",
   "metadata": {
    "tags": []
   },
   "outputs": [],
   "source": [
    "dir_data = 'datasets/call_plan_classifier'\n",
    "file_name = '요금제agent_240912.xlsx'\n",
    "plan_list_name = '요금제목록.xlsx'\n",
    "lineup_list_name = '요금제라인업목록.xlsx'"
   ]
  },
  {
   "cell_type": "code",
   "execution_count": 5,
   "id": "9cff0edf-43b3-4ec5-b060-100e2dbc273b",
   "metadata": {
    "tags": []
   },
   "outputs": [],
   "source": [
    "tot_data = pd.read_excel(os.path.join(dir_data, file_name)).reset_index(drop=True)"
   ]
  },
  {
   "cell_type": "code",
   "execution_count": 6,
   "id": "57a1e7a0-9519-4fe5-b6ac-173a8c9f9d41",
   "metadata": {
    "tags": []
   },
   "outputs": [],
   "source": [
    "feature_ids = tot_data['Feature ID'].unique()"
   ]
  },
  {
   "cell_type": "code",
   "execution_count": 7,
   "id": "7835a086-fad1-4c4e-bdbc-83f65f45b8eb",
   "metadata": {},
   "outputs": [],
   "source": [
    "plan_list_data = pd.read_excel(os.path.join(dir_data, plan_list_name))\n",
    "plan_list = list(plan_list_data['상품명'])"
   ]
  },
  {
   "cell_type": "code",
   "execution_count": 8,
   "id": "a23c22c0-1cfe-4695-bb23-1e9acc280c06",
   "metadata": {},
   "outputs": [],
   "source": [
    "lineup_list_data = pd.read_excel(os.path.join(dir_data, lineup_list_name))\n",
    "lineup_list = list(lineup_list_data['요금제라인업'])"
   ]
  },
  {
   "cell_type": "markdown",
   "id": "7e2d7f98-ac96-4fd3-8753-b105fa13d956",
   "metadata": {},
   "source": [
    "# 1. Divide Train Test data"
   ]
  },
  {
   "cell_type": "code",
   "execution_count": 9,
   "id": "ad1abf5b-81fd-47b8-998a-5aa4860f256d",
   "metadata": {
    "tags": []
   },
   "outputs": [
    {
     "data": {
      "text/plain": [
       "array(['F17-I01', 'F17-I02', 'F17-I11', 'F17-I12', 'F17-I15', 'F17-I13',\n",
       "       'F17-I14', 'F17-I17', 'F17-I18', 'F17-I19', 'F17-I20', 'F17-I21',\n",
       "       'F01-I01', 'F01-I02', 'F01-I03', 'F05-I01_01', 'F05_I02',\n",
       "       'F08-I01-1_E01', 'F08-I01-1_E02', 'F08-I01-1_E03', 'F08-I01-1_E04',\n",
       "       'F08-I01-1_E05', 'F08-I01-1_E06', 'F08-I01-1_E07', 'F08-I01-1_E08',\n",
       "       'F08-I01-1_E09', 'F08-I01-1_E10', 'F08-I01-1_E11', 'F08-I01-1_E12',\n",
       "       'F08-I01-1_E13', 'F08-I01-1_E14', 'F08-I01-1_E15', 'F08-I01-1_E16',\n",
       "       'F08-I01-1_E17', 'F08-I01-1_E18', 'F08-I01-1_E19', 'F08-I01-1_E20',\n",
       "       'F08-I01-1_E21', 'F08-I02-1_E01', 'F08-I02-1_E02', 'F08-I02-1_E03',\n",
       "       'F08-I02-1_E04', 'F08-I02-1_E05', 'F08-I02-1_E06', 'F08-I02-1_E07',\n",
       "       'F08-I02-1_E08', 'F08-I02-1_E09', 'F08-I02-1_E10', 'F08-I02-1_E11',\n",
       "       'F08-I02-1_E12', 'F08-I02-1_E13', 'F08-I02-1_E14', 'F08-I02-1_E15',\n",
       "       'F08-I02-1_E16', 'F08-I02-1_E17', 'F08-I02-1_E18', 'F08-I02-1_E19',\n",
       "       'F08-I02-1_E20', 'F08-I02-1_E21'], dtype=object)"
      ]
     },
     "execution_count": 9,
     "metadata": {},
     "output_type": "execute_result"
    }
   ],
   "source": [
    "feature_ids"
   ]
  },
  {
   "cell_type": "code",
   "execution_count": 10,
   "id": "8dd63b79-588c-4c4a-b3a3-b8c6985269d2",
   "metadata": {
    "tags": []
   },
   "outputs": [],
   "source": [
    "train_num = 7\n",
    "shot_num = 1"
   ]
  },
  {
   "cell_type": "code",
   "execution_count": 11,
   "id": "861537dc-3030-4c42-ae1d-cd899b35ee74",
   "metadata": {
    "tags": []
   },
   "outputs": [],
   "source": [
    "train_index = []\n",
    "count = 0\n",
    "for _id in feature_ids:\n",
    "    _index = list(tot_data.index[tot_data['Feature ID']==_id])\n",
    "    random.seed(count*100)\n",
    "    idx = random.sample(_index, train_num)\n",
    "    train_index += idx\n",
    "    count += 1"
   ]
  },
  {
   "cell_type": "code",
   "execution_count": 12,
   "id": "9d769369-04ae-42b2-a50b-353925401022",
   "metadata": {
    "tags": []
   },
   "outputs": [],
   "source": [
    "test_index = list(set(tot_data.index) - set(train_index))"
   ]
  },
  {
   "cell_type": "code",
   "execution_count": 13,
   "id": "db7e1754-ca3c-4b46-a5de-4ed772bbbcc2",
   "metadata": {
    "tags": []
   },
   "outputs": [],
   "source": [
    "train_data = tot_data.iloc[train_index].reset_index(drop=True)\n",
    "test_data = tot_data.iloc[test_index].reset_index(drop=True)"
   ]
  },
  {
   "cell_type": "code",
   "execution_count": 14,
   "id": "e4000b35-03a9-4510-8296-2a953cfb9778",
   "metadata": {
    "tags": []
   },
   "outputs": [],
   "source": [
    "test_index_list = []\n",
    "feature_index_list = []\n",
    "for _id in feature_ids:\n",
    "    feature_index = list(train_data.index[train_data['Feature ID']==_id])\n",
    "    combinations = list(itertools.combinations(feature_index, shot_num))\n",
    "    for comb_idx in range(len(combinations)):\n",
    "        element = combinations[comb_idx]\n",
    "        try:\n",
    "            feature_index_list[comb_idx] += list(element)\n",
    "            test_index_list[comb_idx] += list(set(feature_index) - set(element))\n",
    "        except:\n",
    "            feature_index_list.append(list(element))\n",
    "            test_index_list.append(list(set(feature_index) - set(element)))\n",
    "    # feature_index.append(list(train_data.index[train_data['Feature ID']==_id]))\n",
    "    \n",
    "test_data_list = []\n",
    "for i in range(len(test_index_list)):\n",
    "    test_data_list.append(pd.concat([test_data,train_data.iloc[test_index_list[i]]]).reset_index(drop=True))"
   ]
  },
  {
   "cell_type": "markdown",
   "id": "b7de86f9-647f-4500-9c8c-38727ae3c4a1",
   "metadata": {},
   "source": [
    "# 2. function 정의"
   ]
  },
  {
   "cell_type": "code",
   "execution_count": 15,
   "id": "b60c292a-aa9d-4adf-ad98-61d26e7a095b",
   "metadata": {
    "tags": []
   },
   "outputs": [],
   "source": [
    "FUNCTIONS = [\n",
    "    {\n",
    "        \"type\": \"function\",\n",
    "        \"function\": {\n",
    "          \"name\": \"my_mobile_plan\",\n",
    "          \"description\": \"Useful when get my mobile plan.\",\n",
    "          \"parameters\": {\n",
    "            \"type\": \"object\",\n",
    "            \"properties\": {}\n",
    "          }\n",
    "        }\n",
    "    },\n",
    "    {\n",
    "        \"type\": \"function\",\n",
    "        \"function\": {\n",
    "          \"name\": \"my_subscribed_add_ons\",\n",
    "          \"description\": \"Useful for providing your subscribed add-ons(가입 된 부가서비스).\",\n",
    "          \"parameters\": {\n",
    "            \"type\": \"object\",\n",
    "            \"properties\": {}\n",
    "          }\n",
    "        }\n",
    "    },\n",
    "    {\n",
    "        \"type\": \"function\",\n",
    "        \"function\": {\n",
    "          \"name\": \"my_billing_charge\",\n",
    "          \"description\": \"Useful when you need to provide recent billing charges (for last month's usage).\",\n",
    "          \"parameters\": {\n",
    "            \"type\": \"object\",\n",
    "            \"properties\": {}\n",
    "          }\n",
    "        }\n",
    "    },\n",
    "    {\n",
    "        \"type\": \"function\",\n",
    "        \"function\": {\n",
    "          \"name\": \"my_realtime_billing_charge\",\n",
    "          \"description\": \"Useful when you need to provide real-time billing charges based on current month usage.\",\n",
    "          \"parameters\": {\n",
    "            \"type\": \"object\",\n",
    "            \"properties\": {}\n",
    "          }\n",
    "        }\n",
    "    },\n",
    "    {\n",
    "        \"type\": \"function\",\n",
    "        \"function\": {\n",
    "          \"name\": \"my_realtime_data_usage\",\n",
    "          \"description\": \"Useful when guide real-time data usage/residuals.\",\n",
    "          \"parameters\": {\n",
    "            \"type\": \"object\",\n",
    "            \"properties\": {}\n",
    "          }\n",
    "        }\n",
    "    },\n",
    "    {\n",
    "        \"type\": \"function\",\n",
    "        \"function\": {\n",
    "          \"name\": \"my_shared_data_usage\",\n",
    "          \"description\": \"Useful when you need to provide shared and tethered data usage or residuals.\",\n",
    "          \"parameters\": {\n",
    "            \"type\": \"object\",\n",
    "            \"properties\": {}\n",
    "          }\n",
    "        }\n",
    "    },\n",
    "    {\n",
    "        \"type\": \"function\",\n",
    "        \"function\": {\n",
    "          \"name\": \"my_average_data_usage\",\n",
    "          \"description\": \"Useful for providing average data usage from last 3 months data usage.\",\n",
    "          \"parameters\": {\n",
    "            \"type\": \"object\",\n",
    "            \"properties\": {}\n",
    "          }\n",
    "        }\n",
    "    },\n",
    "    {\n",
    "        \"type\": \"function\",\n",
    "        \"function\": {\n",
    "          \"name\": \"remaining_data_refill_coupons\",\n",
    "          \"description\": \"Useful for guiding about remaining data refill coupons.\",\n",
    "          \"parameters\": {\n",
    "            \"type\": \"object\",\n",
    "            \"properties\": {}\n",
    "          }\n",
    "        }\n",
    "    },\n",
    "    {\n",
    "        \"type\": \"function\",\n",
    "        \"function\": {\n",
    "          \"name\": \"remaining_data_gift\",\n",
    "          \"description\": \"Useful for guiding whether data can be gifted and how many times it remains available.\",\n",
    "          \"parameters\": {\n",
    "            \"type\": \"object\",\n",
    "            \"properties\": {}\n",
    "          }\n",
    "        }\n",
    "    },\n",
    "    {\n",
    "        \"type\": \"function\",\n",
    "        \"function\": {\n",
    "          \"name\": \"t_family_data_usage\",\n",
    "          \"description\": \"Useful for guiding status of 'T가족모아데이터' data usage.\",\n",
    "          \"parameters\": {\n",
    "            \"type\": \"object\",\n",
    "            \"properties\": {}\n",
    "          }\n",
    "        }\n",
    "    },\n",
    "    {\n",
    "        \"type\": \"function\",\n",
    "        \"function\": {\n",
    "          \"name\": \"t_family_data_change_shared_amount\",\n",
    "          \"description\": \"Useful for changing to 'T가족모아데이터' shared data amount.\",\n",
    "          \"parameters\": {\n",
    "            \"type\": \"object\",\n",
    "            \"properties\": {}\n",
    "          }\n",
    "        }\n",
    "    },\n",
    "    {\n",
    "        \"type\": \"function\",\n",
    "        \"function\": {\n",
    "          \"name\": \"remaining_no_contract_plan_points\",\n",
    "          \"description\": \"Useful for checking points remaining on no-contract plans(무약정플랜).\",\n",
    "          \"parameters\": {\n",
    "            \"type\": \"object\",\n",
    "            \"properties\": {}\n",
    "          }\n",
    "        }\n",
    "    },\n",
    "    {\n",
    "        \"type\": \"function\",\n",
    "        \"function\": {\n",
    "          \"name\": \"billing_charge_analyze_summary\",\n",
    "          \"description\": \"Useful for providing how user's billing history compares to the previous month.\",\n",
    "          \"parameters\": {\n",
    "            \"type\": \"object\",\n",
    "            \"properties\": {}\n",
    "          }\n",
    "        }\n",
    "    },\n",
    "    {\n",
    "        \"type\": \"function\",\n",
    "        \"function\": {\n",
    "          \"name\": \"billing_charge_analyze_discount\",\n",
    "          \"description\": \"Useful for providing details of the discount on billing charges and the increase/decrease compared to last month.\",\n",
    "          \"parameters\": {\n",
    "            \"type\": \"object\",\n",
    "            \"properties\": {}\n",
    "          }\n",
    "        }\n",
    "    },\n",
    "    {\n",
    "        \"type\": \"function\",\n",
    "        \"function\": {\n",
    "          \"name\": \"billing_charge_data_usage\",\n",
    "          \"description\": \"Useful for providing data usage for this month and compare to last month.\",\n",
    "          \"parameters\": {\n",
    "            \"type\": \"object\",\n",
    "            \"properties\": {}\n",
    "          }\n",
    "        }\n",
    "    },\n",
    "    {\n",
    "        \"type\": \"function\",\n",
    "        \"function\": {\n",
    "          \"name\": \"COMPARE_BETWEEN_MOBILE_PLAN\",\n",
    "          \"description\": \"Useful when compare features of multiple SKTelecom mobile plans.\",\n",
    "          \"parameters\": {\n",
    "            \"type\": \"object\",\n",
    "            \"properties\": {\n",
    "                \"plans\": {\n",
    "                    \"description\": \"List of SKTelecom mobile plans.\",\n",
    "                    \"type\": \"array\",\n",
    "                    \"items\": {\n",
    "                      \"type\": \"string\"\n",
    "                    }\n",
    "                }\n",
    "              },\n",
    "              \"required\": [\n",
    "                  \"plans\"\n",
    "              ]\n",
    "            }\n",
    "        }\n",
    "    },\n",
    "    {\n",
    "        \"type\": \"function\",\n",
    "        \"function\": {\n",
    "          \"name\": \"COMPARE_CHANGE_MY_MOBILE_PLAN\",\n",
    "          \"description\": \"Useful when compare when changing your plan.\",\n",
    "          \"parameters\": {\n",
    "            \"type\": \"object\",\n",
    "            \"properties\": {\n",
    "                \"plan\": {\n",
    "                    \"description\": \"SKTelecom mobile plan you want to change.\",\n",
    "                    \"type\": \"string\"\n",
    "                }\n",
    "              },\n",
    "              \"required\": [\n",
    "                  \"plan\"\n",
    "              ]\n",
    "            }\n",
    "        }\n",
    "    },\n",
    "    {\n",
    "        \"type\": \"function\",\n",
    "        \"function\": {\n",
    "          \"name\": \"SEARCH_MOBILE_PLAN\",\n",
    "          \"description\": \"This function searches or offer mobile plans based on a specific keyword.\",\n",
    "          \"parameters\": {\n",
    "              \"type\": \"object\",\n",
    "              \"properties\": {\n",
    "                  \"keywords\": {\n",
    "                      \"type\": \"object\",\n",
    "                      \"description\": \"search keywords\",\n",
    "                      \"properties\": {}\n",
    "                  }\n",
    "              }\n",
    "            }\n",
    "        }\n",
    "    },\n",
    "    {\n",
    "        \"type\": \"function\",\n",
    "        \"function\": {\n",
    "          \"name\": \"AVAILABLE_MOBILE_PLAN\",\n",
    "          \"description\": \"This function is used to check whether user can subscribe to the given plan.\",\n",
    "          \"parameters\": {\n",
    "              \"type\": \"object\",\n",
    "              \"properties\": {\n",
    "                  \"keywords\": {\n",
    "                      \"type\": \"object\",\n",
    "                      \"description\": \"search keywords\",\n",
    "                      \"properties\": {}\n",
    "                  }\n",
    "              }\n",
    "            }\n",
    "        }\n",
    "    },\n",
    "    {\n",
    "        \"type\": \"function\",\n",
    "        \"function\": {\n",
    "          \"name\": \"changable_date_for_plan\",\n",
    "          \"description\": \"Useful for checking how long user have to stay on user's current plan and when user can change it.\",\n",
    "          \"parameters\": {\n",
    "              \"type\": \"object\",\n",
    "              \"properties\": {}\n",
    "            }\n",
    "        }\n",
    "    },\n",
    "    {\n",
    "        \"type\": \"function\",\n",
    "        \"function\": {\n",
    "          \"name\": \"plan_auto_change_date\",\n",
    "          \"description\": \"This function is used to inform about when user's plan is automatically changed and what plan it's being changed to.\",\n",
    "          \"parameters\": {\n",
    "              \"type\": \"object\",\n",
    "              \"properties\": {}\n",
    "            }\n",
    "        }\n",
    "    },\n",
    "    {\n",
    "        \"type\": \"function\",\n",
    "        \"function\": {\n",
    "          \"name\": \"plan_auto_change_date_alarm\",\n",
    "          \"description\": \"Useful for signing up for an alert when a user can change user's plan.\",\n",
    "          \"parameters\": {\n",
    "              \"type\": \"object\",\n",
    "              \"properties\": {} \n",
    "            }\n",
    "        }\n",
    "    },\n",
    "    {\n",
    "        \"type\": \"function\",\n",
    "        \"function\": {\n",
    "          \"name\": \"recommend_plans\",\n",
    "          \"description\": \"Useful for recommending plans to users.\",\n",
    "          \"parameters\": {\n",
    "              \"type\": \"object\",\n",
    "              \"properties\": {\n",
    "                  \"keywords\": {\n",
    "                      \"type\": \"object\",\n",
    "                      \"description\": \"search keywords\",\n",
    "                      \"properties\": {}\n",
    "                  }\n",
    "              }\n",
    "            }\n",
    "        }\n",
    "    },\n",
    "    {\n",
    "        \"type\": \"function\",\n",
    "        \"function\": {\n",
    "          \"name\": \"estimated_billing_charge_compare_to_current\",\n",
    "          \"description\": \"Useful for providing an estimated bill when changing plan or signing up for a subscription.\",\n",
    "          \"parameters\": {\n",
    "              \"type\": \"object\",\n",
    "              \"properties\": {\n",
    "                  \"keywords\": {\n",
    "                      \"type\": \"object\",\n",
    "                      \"description\": \"search keywords\",\n",
    "                      \"properties\": {}\n",
    "                  }\n",
    "              }\n",
    "            }\n",
    "        }\n",
    "    },\n",
    "    {\n",
    "        \"type\": \"function\",\n",
    "        \"function\": {\n",
    "          \"name\": \"check_plan_availability\",\n",
    "          \"description\": \"This function is used to check whether user can subscribe to the given plan.\",\n",
    "          \"parameters\": {\n",
    "              \"type\": \"object\",\n",
    "              \"properties\": {\n",
    "                  \"keywords\": {\n",
    "                      \"type\": \"object\",\n",
    "                      \"description\": \"search keywords\",\n",
    "                      \"properties\": {}\n",
    "                  }\n",
    "              }\n",
    "            }\n",
    "        }\n",
    "    }\n",
    "\n",
    "]"
   ]
  },
  {
   "cell_type": "code",
   "execution_count": 16,
   "id": "81f827d8-1838-45c3-b81d-7136702fa795",
   "metadata": {
    "tags": []
   },
   "outputs": [],
   "source": [
    "functions_desc = ''\n",
    "function_template = '''\n",
    "{num}. **{function_name}**:\n",
    "\\t- Description: {function_desc}'''\n",
    "\n",
    "required_arg_template = '''\n",
    "\\t- **Required Arguments**:'''\n",
    "\n",
    "optional_arg_template = '''\n",
    "\\t- **Optional Arguments**:'''\n",
    "\n",
    "no_arg_template = '''\n",
    "\\t- **No arguments**.'''\n",
    "\n",
    "arg_item_template = '''\n",
    "\\t\\t- `{name}` ({type})'''\n",
    "\n",
    "num = 1\n",
    "for function in FUNCTIONS:\n",
    "    desc = function_template.format(num=num, function_name=function['function']['name'], function_desc=function['function']['description'])\n",
    "    if function['function']['parameters']['properties'] == {}:\n",
    "        desc += no_arg_template\n",
    "    else:\n",
    "        try:\n",
    "            req_fields = function['function']['parameters']['required']\n",
    "            desc += required_arg_template\n",
    "            args = function['function']['parameters']['properties']\n",
    "            for req_field in req_fields:\n",
    "                arg = args[req_field]\n",
    "                if arg['type'] == 'array':\n",
    "                    item_type = arg[\"items\"][\"type\"]\n",
    "                    arg_type = f'array of {item_type}s'\n",
    "                else:\n",
    "                    arg_type = arg['items']['type']\n",
    "                desc += arg_item_template.format(name=req_field, type=arg_type)\n",
    "            # optional 있는 경우 추가\n",
    "            diff_set = set(args.keys()) - set(req_fields)\n",
    "            if len(diff_set) > 0:\n",
    "                desc += optional_arg_template\n",
    "                for key in list(diff_set):\n",
    "                    arg = args[key]\n",
    "                    if arg['type'] == 'array':\n",
    "                        item_type = arg[\"items\"][\"type\"]\n",
    "                        arg_type = f'array of {item_type}s'\n",
    "                    else:\n",
    "                        arg_type = arg['type']\n",
    "                    desc += arg_item_template.format(name=key, type=arg_type)\n",
    "        except:\n",
    "            desc += optional_arg_template\n",
    "            args = function['function']['parameters']['properties']\n",
    "            for key in args.keys():\n",
    "                arg = args[key]\n",
    "                if arg['type'] == 'array':\n",
    "                    item_type = arg[\"items\"][\"type\"]\n",
    "                    arg_type = f'array of {item_type}s'\n",
    "                else:\n",
    "                    arg_type = arg['type']\n",
    "                desc += arg_item_template.format(name=key, type=arg_type)\n",
    "    functions_desc += desc\n",
    "    num += 1"
   ]
  },
  {
   "cell_type": "code",
   "execution_count": 17,
   "id": "f3792549-56f7-409c-8258-849a8ce26169",
   "metadata": {
    "tags": []
   },
   "outputs": [
    {
     "name": "stdout",
     "output_type": "stream",
     "text": [
      "\n",
      "1. **my_mobile_plan**:\n",
      "\t- Description: Useful when get my mobile plan.\n",
      "\t- **No arguments**.\n",
      "2. **my_subscribed_add_ons**:\n",
      "\t- Description: Useful for providing your subscribed add-ons(가입 된 부가서비스).\n",
      "\t- **No arguments**.\n",
      "3. **my_billing_charge**:\n",
      "\t- Description: Useful when you need to provide recent billing charges (for last month's usage).\n",
      "\t- **No arguments**.\n",
      "4. **my_realtime_billing_charge**:\n",
      "\t- Description: Useful when you need to provide real-time billing charges based on current month usage.\n",
      "\t- **No arguments**.\n",
      "5. **my_realtime_data_usage**:\n",
      "\t- Description: Useful when guide real-time data usage/residuals.\n",
      "\t- **No arguments**.\n",
      "6. **my_shared_data_usage**:\n",
      "\t- Description: Useful when you need to provide shared and tethered data usage or residuals.\n",
      "\t- **No arguments**.\n",
      "7. **my_average_data_usage**:\n",
      "\t- Description: Useful for providing average data usage from last 3 months data usage.\n",
      "\t- **No arguments**.\n",
      "8. **remaining_data_refill_coupons**:\n",
      "\t- Description: Useful for guiding about remaining data refill coupons.\n",
      "\t- **No arguments**.\n",
      "9. **remaining_data_gift**:\n",
      "\t- Description: Useful for guiding whether data can be gifted and how many times it remains available.\n",
      "\t- **No arguments**.\n",
      "10. **t_family_data_usage**:\n",
      "\t- Description: Useful for guiding status of 'T가족모아데이터' data usage.\n",
      "\t- **No arguments**.\n",
      "11. **t_family_data_change_shared_amount**:\n",
      "\t- Description: Useful for changing to 'T가족모아데이터' shared data amount.\n",
      "\t- **No arguments**.\n",
      "12. **remaining_no_contract_plan_points**:\n",
      "\t- Description: Useful for checking points remaining on no-contract plans(무약정플랜).\n",
      "\t- **No arguments**.\n",
      "13. **billing_charge_analyze_summary**:\n",
      "\t- Description: Useful for providing how user's billing history compares to the previous month.\n",
      "\t- **No arguments**.\n",
      "14. **billing_charge_analyze_discount**:\n",
      "\t- Description: Useful for providing details of the discount on billing charges and the increase/decrease compared to last month.\n",
      "\t- **No arguments**.\n",
      "15. **billing_charge_data_usage**:\n",
      "\t- Description: Useful for providing data usage for this month and compare to last month.\n",
      "\t- **No arguments**.\n",
      "16. **COMPARE_BETWEEN_MOBILE_PLAN**:\n",
      "\t- Description: Useful when compare features of multiple SKTelecom mobile plans.\n",
      "\t- **Required Arguments**:\n",
      "\t\t- `plans` (array of strings)\n",
      "17. **COMPARE_CHANGE_MY_MOBILE_PLAN**:\n",
      "\t- Description: Useful when compare when changing your plan.\n",
      "\t- **Required Arguments**:\n",
      "\t- **Optional Arguments**:\n",
      "\t\t- `plan` (string)\n",
      "18. **SEARCH_MOBILE_PLAN**:\n",
      "\t- Description: This function searches or offer mobile plans based on a specific keyword.\n",
      "\t- **Optional Arguments**:\n",
      "\t\t- `keywords` (object)\n",
      "19. **AVAILABLE_MOBILE_PLAN**:\n",
      "\t- Description: This function is used to check whether user can subscribe to the given plan.\n",
      "\t- **Optional Arguments**:\n",
      "\t\t- `keywords` (object)\n"
     ]
    }
   ],
   "source": [
    "print(functions_desc)"
   ]
  },
  {
   "cell_type": "markdown",
   "id": "cede9c89-4322-435b-9451-76d1cbfaf38f",
   "metadata": {},
   "source": [
    "# 3. ARGUMENTS"
   ]
  },
  {
   "cell_type": "code",
   "execution_count": 18,
   "id": "1ee91925-6384-4ed2-a579-25eaa40ce894",
   "metadata": {},
   "outputs": [],
   "source": [
    "shared_arguments = {\n",
    "    \"keywords\": {\n",
    "      \"type\": \"object\",\n",
    "      \"description\": \"search keywords\",\n",
    "      \"properties\": {\n",
    "        \"productName\": {\n",
    "          \"default\": \"null\",\n",
    "          \"description\": \"name of mobile plan\",\n",
    "          \"title\": \"Productname\",\n",
    "          \"type\": \"string\"\n",
    "        },\n",
    "        \"includedVoiceCall\": {\n",
    "          \"default\": \"null\",\n",
    "          \"description\": \"The amount of voice calls provided by the plan\",\n",
    "          \"title\": \"Includedvoicecall\",\n",
    "          \"type\": \"string\"\n",
    "        },\n",
    "        \"includedVideoOrValueAddedCall\": {\n",
    "          \"default\": \"null\",\n",
    "          \"description\": \"The amount of video calls(영상통화) or added calls(부가통화) provided by the plan\",\n",
    "          \"title\": \"Includedvideoorvalueaddedcall\",\n",
    "          \"type\": \"string\"\n",
    "        },\n",
    "        \"includedVoiceCallTospecifiedNumbers\": {\n",
    "          \"default\": \"null\",\n",
    "          \"description\": \"The amount of voice calls to specified numbers (지정통화) provided by the plan\",\n",
    "          \"title\": \"Includedvoicecalltospecifiednumbers\",\n",
    "          \"type\": \"string\"\n",
    "        },\n",
    "        \"includedData\": {\n",
    "          \"default\": \"null\",\n",
    "          \"description\": \"The amount of data. Generally GB units are used.\",\n",
    "          \"title\": \"Includeddata\",\n",
    "          \"type\": \"string\"\n",
    "        },\n",
    "        \"includedDataForSharingAndTethering\": {\n",
    "          \"default\": \"null\",\n",
    "          \"description\": \"The amount of sharing and tethering data.\",\n",
    "          \"title\": \"Includeddataforsharingandtethering\",\n",
    "          \"type\": \"string\"\n",
    "        },\n",
    "        \"optionData\": {\n",
    "          \"default\": \"null\",\n",
    "          \"description\": \"data provided in addition to the basic data provided\",\n",
    "          \"title\": \"Optiondata\",\n",
    "          \"type\": \"string\"\n",
    "        },\n",
    "        \"availableAmountForDataOptionRefill\": {\n",
    "          \"default\": \"null\",\n",
    "          \"description\": \"amount of data refill\",\n",
    "          \"title\": \"Availableamountfordataoptionrefill\",\n",
    "          \"type\": \"string\"\n",
    "        },\n",
    "        \"maximumAmountForSharing\": {\n",
    "          \"default\": \"null\",\n",
    "          \"description\": \"The maximum amount of data that can be shared with others\",\n",
    "          \"title\": \"Maximumamountforsharing\",\n",
    "          \"type\": \"string\"\n",
    "        },\n",
    "        \"includedText\": {\n",
    "          \"default\": \"null\",\n",
    "          \"description\": \"amount of SMS\",\n",
    "          \"title\": \"Includedtext\",\n",
    "          \"type\": \"string\"\n",
    "        },\n",
    "        \"monthlyPrice\": {\n",
    "          \"default\": \"null\",\n",
    "          \"description\": \"amount of monthly price. KRW(원) units are used.\",\n",
    "          \"title\": \"Monthlyprice\",\n",
    "          \"type\": \"string\"\n",
    "        },\n",
    "        \"generation\": {\n",
    "          \"default\": \"null\",\n",
    "          \"description\": \"Available mobile networks (5G, LTE, etc.)\",\n",
    "          \"title\": \"Generation\",\n",
    "          \"type\": \"string\"\n",
    "        },\n",
    "        \"dataQoS\": {\n",
    "          \"default\": \"null\",\n",
    "          \"description\": \"Speed control when you can continue to use data without additional charges after your default data limit has been used up\",\n",
    "          \"title\": \"Dataqos\",\n",
    "          \"type\": \"string\"\n",
    "        },\n",
    "        \"benefit\": {\n",
    "          \"default\": \"null\",\n",
    "          \"description\": \"benefits of the mobile plan\",\n",
    "          \"title\": \"Benefit\",\n",
    "          \"type\": \"string\"\n",
    "        },\n",
    "        \"lineup\": {\n",
    "          \"default\": \"null\",\n",
    "          \"description\": \"The name of the parent group to which the mobile plan belongs\",\n",
    "          \"title\": \"Lineup\",\n",
    "          \"type\": \"string\"\n",
    "        },\n",
    "        \"onboardingChannel\": {\n",
    "          \"default\": \"null\",\n",
    "          \"description\": \"Channel to subscribe to the product\",\n",
    "          \"title\": \"Onboardingchannel\",\n",
    "          \"type\": \"string\"\n",
    "        },\n",
    "        \"onboardingTypeEligibility\": {\n",
    "          \"default\": \"null\",\n",
    "          \"description\": \"Available subscription types\",\n",
    "          \"title\": \"Onboardingtypeeligibility\",\n",
    "          \"type\": \"string\"\n",
    "        },\n",
    "        \"onboardingDevice\": {\n",
    "          \"default\": \"null\",\n",
    "          \"description\": \"device for subscribing to the product\",\n",
    "          \"title\": \"Onboardingdevice\",\n",
    "          \"type\": \"string\"\n",
    "        },\n",
    "        \"onboardingDeviceAlias\": {\n",
    "          \"default\": \"null\",\n",
    "          \"description\": \"alias of device for subscribing to the product\",\n",
    "          \"title\": \"Onboardingdevicealias\",\n",
    "          \"type\": \"string\"\n",
    "        },\n",
    "        \"specialCustomerOnboard\": {\n",
    "          \"default\": \"null\",\n",
    "          \"description\": \"Customer type segment (military, college student, etc.)\",\n",
    "          \"title\": \"Specialcustomeronboard\",\n",
    "          \"type\": \"string\"\n",
    "        }\n",
    "      }\n",
    "    },\n",
    "    \"plan\": {\n",
    "        \"description\": \"SKTelecom mobile plan you want to change.\",\n",
    "        \"type\": \"string\"\n",
    "    },\n",
    "    \"plans\": {\n",
    "        \"description\": \"List of SKTelecom mobile plans.\",\n",
    "        \"type\": \"array\",\n",
    "        \"items\": {\n",
    "          \"type\": \"string\"\n",
    "        }\n",
    "    }\n",
    "}"
   ]
  },
  {
   "cell_type": "code",
   "execution_count": 19,
   "id": "0a789a50-351b-4f18-91f9-2dfb29a71cc8",
   "metadata": {
    "tags": []
   },
   "outputs": [],
   "source": [
    "args_desc = ''\n",
    "arg_obj_template = '''\n",
    "{num}. **{arg_name}** (object):\n",
    "\\t- Description: {arg_desc}\n",
    "\\t- Keys:'''\n",
    "\n",
    "arg_obj_key_default_template = '''\n",
    "\\t\\t- {name} ({type}, default: {default}) - {key_desc}'''\n",
    "\n",
    "arg_obj_key_template = '''\n",
    "\\t\\t- {name} ({type}) - {key_desc}'''\n",
    "\n",
    "arg_simple_template = '''\n",
    "{num}. **{arg_name}** ({type}):\n",
    "\\t- Description: {arg_desc}'''\n",
    "num = 1\n",
    "for arg_name in shared_arguments:\n",
    "    content = shared_arguments[arg_name]\n",
    "    if content['type'] == 'object':\n",
    "        arg = arg_obj_template.format(num=num, arg_name=arg_name, arg_desc=content['description'])\n",
    "        keys = content['properties']\n",
    "        for key in keys:\n",
    "            item = keys[key]\n",
    "            try:\n",
    "                default_val = item['default']\n",
    "                arg += arg_obj_key_default_template.format(name=key, type=item['type'], key_desc=item['description'], default=default_val)\n",
    "            except:\n",
    "                arg += arg_obj_key_template.format(name=key, type=item['type'], key_desc=item['description'])\n",
    "    else:\n",
    "        if content['type'] == 'array':\n",
    "            item_type = content[\"items\"][\"type\"]\n",
    "            arg_type = f'array of {item_type}s'\n",
    "        else:\n",
    "            arg_type = content['type']\n",
    "        arg = arg_simple_template.format(num=num, arg_name=arg_name, type=arg_type, arg_desc=content['description'])\n",
    "    args_desc += arg\n",
    "    num += 1"
   ]
  },
  {
   "cell_type": "code",
   "execution_count": 20,
   "id": "74e36423-55ba-4266-9376-374a88bfaa17",
   "metadata": {
    "tags": []
   },
   "outputs": [
    {
     "name": "stdout",
     "output_type": "stream",
     "text": [
      "\n",
      "1. **keywords** (object):\n",
      "\t- Description: search keywords\n",
      "\t- Keys:\n",
      "\t\t- productName (string, default: null) - name of mobile plan\n",
      "\t\t- includedVoiceCall (string, default: null) - The amount of voice calls provided by the plan\n",
      "\t\t- includedVideoOrValueAddedCall (string, default: null) - The amount of video calls(영상통화) or added calls(부가통화) provided by the plan\n",
      "\t\t- includedVoiceCallTospecifiedNumbers (string, default: null) - The amount of voice calls to specified numbers (지정통화) provided by the plan\n",
      "\t\t- includedData (string, default: null) - The amount of data. Generally GB units are used.\n",
      "\t\t- includedDataForSharingAndTethering (string, default: null) - The amount of sharing and tethering data.\n",
      "\t\t- optionData (string, default: null) - data provided in addition to the basic data provided\n",
      "\t\t- availableAmountForDataOptionRefill (string, default: null) - amount of data refill\n",
      "\t\t- maximumAmountForSharing (string, default: null) - The maximum amount of data that can be shared with others\n",
      "\t\t- includedText (string, default: null) - amount of SMS\n",
      "\t\t- monthlyPrice (string, default: null) - amount of monthly price. KRW(원) units are used.\n",
      "\t\t- generation (string, default: null) - Available mobile networks (5G, LTE, etc.)\n",
      "\t\t- dataQoS (string, default: null) - Speed control when you can continue to use data without additional charges after your default data limit has been used up\n",
      "\t\t- benefit (string, default: null) - benefits of the mobile plan\n",
      "\t\t- lineup (string, default: null) - The name of the parent group to which the mobile plan belongs\n",
      "\t\t- onboardingChannel (string, default: null) - Channel to subscribe to the product\n",
      "\t\t- onboardingTypeEligibility (string, default: null) - Available subscription types\n",
      "\t\t- onboardingDevice (string, default: null) - device for subscribing to the product\n",
      "\t\t- onboardingDeviceAlias (string, default: null) - alias of device for subscribing to the product\n",
      "\t\t- specialCustomerOnboard (string, default: null) - Customer type segment (military, college student, etc.)\n",
      "2. **plan** (string):\n",
      "\t- Description: SKTelecom mobile plan you want to change.\n",
      "3. **plans** (array of strings):\n",
      "\t- Description: List of SKTelecom mobile plans.\n"
     ]
    }
   ],
   "source": [
    "print(args_desc)"
   ]
  },
  {
   "cell_type": "markdown",
   "id": "3dacf20d-01a6-4abc-a876-6ab6d0223ce4",
   "metadata": {},
   "source": [
    "# 4. System prompt"
   ]
  },
  {
   "cell_type": "code",
   "execution_count": 21,
   "id": "bf40c9ec-e00a-42a8-bf58-8a40f5babef7",
   "metadata": {
    "tags": []
   },
   "outputs": [],
   "source": [
    "system_prompt_template = f\"\"\"You're a function classifier that needs to identify the appropriate function related to SKTelecom rate plans in order to accurately respond to the user's utterances.\n",
    "You're actively involved in a three-way conversation with 'user', 'function' and yourself ('assistant').\n",
    "You must classify the appropriate \"function name\" and \"arguments\" according to the user's utterance, and keep the following rules:\n",
    "1. \"Function name\" must be classified only from the lists provided below. You SHOULD NEVER GUESS and CREATE something that is not in the defined list.\n",
    "2. Arguments may or may not be required depending on the selected function.\n",
    "3. If the selected function has a 'required' field, you must fill in the arguments and send it.\n",
    "4. Arguments can be inferred from the user's utterance or the previous conversation, and they usually relate to SKTelecom mobile plans or additional services.\n",
    "\n",
    "### SKTelecom mobile plans\n",
    "{plan_list}\n",
    "\n",
    "### SKTelecom mobile plan lineups\n",
    "{lineup_list}\n",
    "\n",
    "### Shared Arguments:\n",
    "These arguments are shared by multiple functions.{args_desc}\n",
    "\n",
    "### Function Descriptions:{functions_desc}\n",
    "\"\"\""
   ]
  },
  {
   "cell_type": "code",
   "execution_count": 22,
   "id": "7d1fe8dd-1bb3-4586-9efe-22d31a3ca776",
   "metadata": {
    "tags": []
   },
   "outputs": [
    {
     "name": "stdout",
     "output_type": "stream",
     "text": [
      "You're a function classifier that needs to identify the appropriate function related to SKTelecom rate plans in order to accurately respond to the user's utterances.\n",
      "You're actively involved in a three-way conversation with 'user', 'function' and yourself ('assistant').\n",
      "You must classify the appropriate \"function name\" and \"arguments\" according to the user's utterance, and keep the following rules:\n",
      "1. \"Function name\" must be classified only from the lists provided below. You SHOULD NEVER GUESS and CREATE something that is not in the defined list.\n",
      "2. Arguments may or may not be required depending on the selected function.\n",
      "3. If the selected function has a 'required' field, you must fill in the arguments and send it.\n",
      "4. Arguments can be inferred from the user's utterance or the previous conversation, and they usually relate to SKTelecom mobile plans or additional services.\n",
      "\n",
      "### SKTelecom mobile plans\n",
      "['팅PLUS29요금', '표준요금제', '다이렉트5G 69', '다이렉트5G 62', '다이렉트5G 55', '다이렉트5G 52', '다이렉트5G 48', '다이렉트5G 42', '다이렉트5G 38', '다이렉트5G 34', '다이렉트5G 31', '다이렉트5G 27', '뉴실버요금제', 'ZEM플랜 스마트', 'ZEM플랜 베스트', 'ZEM플랜 라이트', 'T플랜 에센스', 'T플랜 안심4G', 'T플랜 안심2.5G', 'T플랜 시니어 에센스', 'T플랜 시니어 안심4.5G', 'T플랜 시니어 안심2.8G', 'T플랜 시니어 스페셜', 'T플랜 시니어 세이브', 'T플랜 스페셜', 'T플랜 세이브', 'T플랜 맥스', 'T끼리 어르신', '다이렉트LTE 48', '다이렉트LTE 35', '다이렉트LTE 30', '다이렉트LTE 22', 'band 데이터 퍼펙트S', 'band 데이터 퍼펙트', 'band 데이터 세이브', 'band 데이터 6.5G', 'band 데이터 3.5G', 'band 데이터 2.2G', 'band 데이터 1.2G', '팅PLUS24요금', '컴팩트플러스', '컴팩트', '슬림', '베이직플러스 75GB업', '베이직플러스 50GB업', '베이직플러스 30GB업', '베이직플러스 13GB업', '베이직플러스', '베이직', '미디엄', '5GX플래티넘', '5GX프라임', '5GX스탠다드', '5GX 플래티넘', '5GX 프리미엄', '5GX 프라임플러스', '5GX 프라임', '5GX 레귤러플러스', '5GX 레귤러', '0틴 5G', '5G 시니어 C형', '5G 시니어 B형', '5G 시니어 A형', '5G ZEM플랜 퍼펙트', '5G ZEM플랜 베스트', '0플랜 히어로', '0플랜 슈퍼히어로', '0플랜 스몰', '0플랜 미디엄', '0플랜 라지', '0틴플랜 스몰', '0틴플랜 미디엄플러스', '0틴플랜 미디엄', '0틴플랜 라지', '0 청년 다이렉트 69', '0 청년 다이렉트 62', '0 청년 다이렉트 55', '0 청년 다이렉트 48', '0 청년 다이렉트 42', '0 청년 다이렉트 34', '0 청년 다이렉트 30', '0 청년 99', '0 청년 89', '0 청년 79', 'ZEM플랜 워치(문자)', 'T아웃도어(공유)', 'T아웃도어(공유)_그룹', 'T아웃도어(공유)_그룹(자)', 'LTE Watch(공유)', 'LTE Watch(그룹)_모', 'LTE Watch(그룹)_자', 'LTE Watch(단독)', '5G함께쓰기_스마트폰', '5G함께쓰기_태블릿', '5G함께쓰기_스마트(정지)', '5G함께쓰기_태블릿(정지)', '5G함께쓰기_스마트폰(프로모션)', '5G함께쓰기_태블릿(프로모션)', '0 청년 69', '0 청년 59 60GB업', '0 청년 59 36GB업', '0 청년 59 15GB업', '0 청년 59 100GB업', '0 청년 59', '0 청년 49', '0 청년 43', '0 청년 37', '삼성생명 Biz Data', '골든 온가족36share', '골든 온가족17share', '패밀리', '골든에이지52 Share', '골든에이지42 Share', '골든에이지34Share', '골든에이지15Share', '스몰', '레귤러', '라지', 'Data 인피니티', '다이렉트5G 76', '다이렉트5G 76(넷플릭스)', '다이렉트5G 69(넷플릭스)', '다이렉트5G 62(넷플릭스)', '5GX 플래티넘(넷플릭스)', '5GX 프리미엄(넷플릭스)', '5GX 프라임플러스(넷플릭스)', '5GX 프라임(넷플릭스)', '0 청년 다이렉트 76(넷플릭스)', '0 청년 다이렉트 69(넷플릭스)', '0 청년 다이렉트 62(넷플릭스)', '0 청년 99(넷플릭스)', '0 청년 89(넷플릭스)', '0 청년 109(넷플릭스)', '0틴 5G 43', '0 청년 다이렉트 76', '5G 행복누리 레귤러', '5G 행복누리 슬림', '5G B2B 베이직', '5G B2B 세이브', '5G언택트 62', 'T플랜 세이브+다이렉트플랜', 'T플랜 안심2.5G+다이렉트플랜', 'T플랜 안심4G+다이렉트플랜', 'T플랜 에센스+다이렉트플랜', 'T플랜 스페셜+다이렉트플랜', 'T플랜 맥스+다이렉트플랜', '핑크커플요금제(자)', '핑크커플요금제(모)', '슬림+다이렉트플랜', '5GX스탠다드+다이렉트플랜', '5GX프라임+다이렉트플랜', '5GX플래티넘+다이렉트플랜', '프리미엄플러스요금제', '프리미엄요금제', '팅프리존34요금', '팅프리존29요금', '팅프리존24요금', '팅프리존19요금', '팅주니어표준', '팅스마트29', '팅스마트24', '팅스마트19', '팅별조절요금제', '팅문자프리미엄요금제', '팅문자무제한무료요금제', '팅500요금제', '팅100요금제', '투게더표준요금제', '클럽T 프리미엄', '클럽T 스탠다드', '0 청년 109', '전국민 무한 85', '전국민 무한 75', '전국민 무한 69', '전국민 무한 100', '자녀안심요금제', 'T 글로벌 8.0G', 'T 글로벌 퍼펙트S', 'T 글로벌 퍼펙트', '주말엔 팅 5.0G', '주말엔 팅 3.0G', '올인원커플64', '올인원커플54', '올인원커플44', '올인원소리사랑34', '주말엔 팅 세이브', '뉴 T끼리 맞춤형(200분+6GB)', '뉴 T끼리 맞춤형(200분+3GB)', '뉴 T끼리 맞춤형(200분+1.5GB)', '뉴 T끼리 맞춤형(200분+700MB)', '뉴 T끼리 맞춤형(200분+250MB)', '온가족 행복플랜85', '온가족 행복플랜78', '온가족 행복플랜72', '온가족 행복플랜68', '온가족 행복플랜58', '온가족 행복플랜48', '온가족 행복플랜38', '온가족 행복플랜100', '온가족 행복플랜 팅57', '온가족 행복플랜 팅47', '온가족 행복플랜 팅37', '안심음성500', '안심음성350', '아이키즈요금제', '뉴 T끼리 맞춤형(150분+6GB)', '손사랑52', '손사랑42', '손사랑34', '손사랑 온가족 55', '뉴 T끼리 맞춤형(150분+3GB)', '뉴 T끼리 맞춤형(150분+1.5GB)', '뉴 T끼리 맞춤형(150분+700MB)', '소리사랑52', '소리사랑42', '소리사랑34', '뉴 T끼리 맞춤형(150분+250MB)', '뉴 T끼리 맞춤형(100분+6GB)', '뉴 T끼리 맞춤형(100분+3GB)', '복지210요금제', '뉴 T끼리 맞춤형(100분+1.5GB)', '복지150요금제', '뉴 T끼리 맞춤형(100분+700MB)', '무료음성Ⅱ 94', '무료음성Ⅱ 79', '무료음성Ⅱ 64', '무료음성Ⅱ 54', '무료음성Ⅱ 44', '무료음성750', '뉴 T끼리 맞춤형(100분+250MB)', '소리누리 3.6G', '소리누리 2.4G', '소리누리 1.2G', '손누리 4.5G', '무료문자3000', '무료문자2500', '무료문자 54', '무료문자 44', '무료문자 2000', '무료60시간요금제', '무료30시간요금제', '무료2시간요금제', '무료20시간요금제', '무료10시간요금제', '스마트 어르신팩', '마이투넘버(정지)', '마이투넘버', '손누리 3.0G', '손누리 1.5G', 'LTE 복지210+', 'LTE 복지150+', '다다익선800요금제', '다다익선400요금제', 'T 케어(한도형)', 'PPS스마트폰 프리미엄', 'PPS스마트폰 레귤러', 'PPS스마트폰 플러스', 'PPS스마트폰 프랜즈', 'PPS스마트폰 라이트', '넘버원(무제한형)', '넘버원(더블할인형)', '골든에이지52', '골든에이지42', '골든에이지34', '골든에이지15', '골든에이지 온가족44', '골든에이지 온가족36', '골든에이지 온가족17', 'T시그니처 Master', 'T시그니처 Classic', 'ZEM플랜 워치', 'PPS스마트폰 일반', 'PPS 충전데이터', 'LTE특수 100', 'T끼리맞춤형75~84', 'T끼리맞춤형69~74', 'T끼리맞춤형65~68', 'T끼리맞춤형55~64', 'T끼리맞춤형45~54', 'T끼리맞춤형32~44', 'T끼리 85', 'T끼리 75', 'T끼리 65', 'T끼리 55', 'T끼리 45', 'T끼리 35', 'T끼리 100', 'TTL핑크커플요금제(자)', 'TTL핑크커플요금제(모)', 'TTL핑크커플+요금(B)', 'TTL핑크커플+요금(A)', 'TTL커플요금제(자)', 'TTL커플요금제(모)', 'LTE특수 85', 'T 클래스 프리미엄', 'T 클래스 스탠다드', 'LTE특수 72', 'T 시그니처 Master(구)', 'T 시그니처 Classic(구)', 'LTE특수 62', 'LTE특수 52', 'T 글로벌 세이브', 'LTE특수 42', 'T 글로벌 3.8G', 'T 글로벌 2.5G', 'T 글로벌 1.5G', 'PPS플러스', 'PPS프리미엄', 'PPS프랜즈', 'PPS일반요금제', 'PPS레귤러', 'PPS라이트', 'NICE요금제', 'LTE팅52', 'LTE팅42', 'LTE팅34', 'LTE팅24', 'LTE커플72', 'LTE커플62', 'LTE커플52', 'LTE커플100', 'LTE 청춘팩', 'LTE특수 34', '올인원특수94', 'LTE 맞춤형 62~71', 'LTE 맞춤형 52~61', 'LTE 맞춤형 42~51', 'LTE 맞춤형 34~41', 'LTE 맞춤형 24~33', 'LTE T끼리팅55', 'LTE T끼리팅45', 'LTE T끼리팅35', 'LTE 85 요금제', 'LTE 72 요금제', 'LTE 62 요금제', 'LTE 52 요금제', 'LTE 42 요금제', 'LTE 34 요금제', 'LTE 100 요금제', 'band 팅 세이브', 'band 팅 3.0G', 'band 팅 2.0G', 'band 어르신 세이브', 'band 어르신 2.2G', 'band 어르신 1.2G', 'band YT 퍼펙트', 'band YT 세이브', 'band YT 7G', 'band YT 3G', 'band YT 1G', '올인원특수79', '올인원특수64', '올인원특수54', '올인원특수44', '올인원특수34', '올인원팅44', '3G 전국민 무한 85', '3G 전국민 무한 75', '3G 전국민 무한 69', '3G 전국민 무한 100', '3G T끼리팅55', '3G T끼리팅45', '3G T끼리팅35', '3G T끼리맞춤형75~84', '3G T끼리맞춤형69~74', '3G T끼리맞춤형65~68', '3G T끼리맞춤형55~64', '3G T끼리맞춤형45~54', '3G T끼리맞춤형32~44', '3G T끼리 85', '3G T끼리 75', '3G T끼리 65', '3G T끼리 55', '3G T끼리 45', '3G T끼리 35', '3G T끼리 100', '3G T 시그니처 Master(구)', '3G T 시그니처 Classic(구)', '3G band어르신 세이브', '3G band어르신 2.2G', '3G band어르신 1.2G', '3G band 팅 세이브', '3G band 팅 3.0G', '3G band 팅 2.0G', '3G band 데이터 퍼펙트', '3G band 데이터 세이브', '3G band 데이터 6.5G', '3G band 데이터 3.5G', '3G band 데이터 2.2G', '3G band 데이터 1.2G', '올인원팅34', '올인원 34', '017패밀리표준요금제', '017패밀리표준2001요금제', '017패밀리비즈니스요금제', '017패밀리로얄요금제', '017택시일반요금제', '017택시공중전화요금제', '017아이니플러스요금제', '017아이니요금제', '017법인요금제', '017로얄요금제', '올인원 64', '올인원 44', '(신)무료문자2000', '복지210+요금', '복지150+요금', '팅주니어표준+요금', '무료음성 94', '무료음성 79', '무료음성 64', '팅PLUS19요금', '팅PLUS14요금', '올인원 94', '올인원 79', '올인원 54', '무료음성 54', '무료음성 44']\n",
      "\n",
      "### SKTelecom mobile plan lineups\n",
      "['팅PLUS', '범용 요금제', '다이렉트플랜', '뉴실버', 'ZEM플랜', 'T플랜', 'T플랜 시니어', 'T끼리 어르신', 'LTE 다이렉트플랜', 'band 데이터 요금제', '5G 일반요금제', '5GX플랜', '5G 청소년 요금제', '5G 시니어 요금제', '5G ZEM 플랜', '0히어로', '0플랜', '0틴플랜', '0청년 다이렉트플랜', '0청년', '스마트 워치 3G 요금제', '스마트 워치 LTE 요금제', '5G 함께쓰기 요금제_스마트폰', '5G 함께쓰기 요금제_태블릿', '골든에이지 온가족', '(구) T플랜', '골든에이지', '다이렉트 넷플릭스 요금제', '넷플릭스 요금제', '0청년 다이렉트 넷플릭스 요금제', '0청년 넷플릭스 요금제', '행복누리', '5G B2B', '5G 언택트', 'T플랜+다이렉트플랜', '핑크 커플', '5GX플랜+다이렉트플랜', '프리미엄 요금제', '팅프리존', '팅주니어표준', '팅스마트', '팅별조절요금제', '팅문자프리미엄요금제', '팅문자무제한무료요금제', '팅500요금제', '팅100요금제', '클럽T', '전국민 무한', '자녀안심요금제', 'T 글로벌', '주말엔 팅', '올인원 커플', '올인원 소리사랑', '뉴 T끼리 맞춤형', '온가족 행복플랜', '온가족 행복플랜 팅', '안심음성500', '안심음성350', '아이키즈요금제', '손사랑', '소리사랑', '복지 요금제', '무료음성 Ⅱ', '무료음성', '소리누리', '손누리', '무료문자', '스마트 어르신팩', 'SIM only 요금제', 'LTE 복지', '다다익선', 'T케어', 'PPS 요금제', '넘버원', 'T시그니처', 'LTE 특수', 'T끼리 맞춤형', 'T끼리', 'TTL 핑크커플', 'TTL 커플', 'T클래스', 'NICE 요금제', 'LTE 팅', 'LTE 커플', 'LTE 청춘팩', '올인원 특수', 'LTE 맞춤형', 'LTE T끼리 팅', 'LTE 요금제', 'band 팅', 'band 어르신', 'band YT', '올인원 팅', '3G 전국민 무한', '3G T끼리 팅', '3G T끼리 맞춤형', '3G T끼리', '3G T 시그니처', '3G band 어르신', '3G band 팅', '3G band 데이터', '올인원', '017 요금제', '복지요금', '팅 요금제']\n",
      "\n",
      "### Shared Arguments:\n",
      "These arguments are shared by multiple functions.\n",
      "1. **keywords** (object):\n",
      "\t- Description: search keywords\n",
      "\t- Keys:\n",
      "\t\t- productName (string, default: null) - name of mobile plan\n",
      "\t\t- includedVoiceCall (string, default: null) - The amount of voice calls provided by the plan\n",
      "\t\t- includedVideoOrValueAddedCall (string, default: null) - The amount of video calls(영상통화) or added calls(부가통화) provided by the plan\n",
      "\t\t- includedVoiceCallTospecifiedNumbers (string, default: null) - The amount of voice calls to specified numbers (지정통화) provided by the plan\n",
      "\t\t- includedData (string, default: null) - The amount of data. Generally GB units are used.\n",
      "\t\t- includedDataForSharingAndTethering (string, default: null) - The amount of sharing and tethering data.\n",
      "\t\t- optionData (string, default: null) - data provided in addition to the basic data provided\n",
      "\t\t- availableAmountForDataOptionRefill (string, default: null) - amount of data refill\n",
      "\t\t- maximumAmountForSharing (string, default: null) - The maximum amount of data that can be shared with others\n",
      "\t\t- includedText (string, default: null) - amount of SMS\n",
      "\t\t- monthlyPrice (string, default: null) - amount of monthly price. KRW(원) units are used.\n",
      "\t\t- generation (string, default: null) - Available mobile networks (5G, LTE, etc.)\n",
      "\t\t- dataQoS (string, default: null) - Speed control when you can continue to use data without additional charges after your default data limit has been used up\n",
      "\t\t- benefit (string, default: null) - benefits of the mobile plan\n",
      "\t\t- lineup (string, default: null) - The name of the parent group to which the mobile plan belongs\n",
      "\t\t- onboardingChannel (string, default: null) - Channel to subscribe to the product\n",
      "\t\t- onboardingTypeEligibility (string, default: null) - Available subscription types\n",
      "\t\t- onboardingDevice (string, default: null) - device for subscribing to the product\n",
      "\t\t- onboardingDeviceAlias (string, default: null) - alias of device for subscribing to the product\n",
      "\t\t- specialCustomerOnboard (string, default: null) - Customer type segment (military, college student, etc.)\n",
      "2. **plan** (string):\n",
      "\t- Description: SKTelecom mobile plan you want to change.\n",
      "3. **plans** (array of strings):\n",
      "\t- Description: List of SKTelecom mobile plans.\n",
      "\n",
      "### Function Descriptions:\n",
      "1. **my_mobile_plan**:\n",
      "\t- Description: Useful when get my mobile plan.\n",
      "\t- **No arguments**.\n",
      "2. **my_subscribed_add_ons**:\n",
      "\t- Description: Useful for providing your subscribed add-ons(가입 된 부가서비스).\n",
      "\t- **No arguments**.\n",
      "3. **my_billing_charge**:\n",
      "\t- Description: Useful when you need to provide recent billing charges (for last month's usage).\n",
      "\t- **No arguments**.\n",
      "4. **my_realtime_billing_charge**:\n",
      "\t- Description: Useful when you need to provide real-time billing charges based on current month usage.\n",
      "\t- **No arguments**.\n",
      "5. **my_realtime_data_usage**:\n",
      "\t- Description: Useful when guide real-time data usage/residuals.\n",
      "\t- **No arguments**.\n",
      "6. **my_shared_data_usage**:\n",
      "\t- Description: Useful when you need to provide shared and tethered data usage or residuals.\n",
      "\t- **No arguments**.\n",
      "7. **my_average_data_usage**:\n",
      "\t- Description: Useful for providing average data usage from last 3 months data usage.\n",
      "\t- **No arguments**.\n",
      "8. **remaining_data_refill_coupons**:\n",
      "\t- Description: Useful for guiding about remaining data refill coupons.\n",
      "\t- **No arguments**.\n",
      "9. **remaining_data_gift**:\n",
      "\t- Description: Useful for guiding whether data can be gifted and how many times it remains available.\n",
      "\t- **No arguments**.\n",
      "10. **t_family_data_usage**:\n",
      "\t- Description: Useful for guiding status of 'T가족모아데이터' data usage.\n",
      "\t- **No arguments**.\n",
      "11. **t_family_data_change_shared_amount**:\n",
      "\t- Description: Useful for changing to 'T가족모아데이터' shared data amount.\n",
      "\t- **No arguments**.\n",
      "12. **remaining_no_contract_plan_points**:\n",
      "\t- Description: Useful for checking points remaining on no-contract plans(무약정플랜).\n",
      "\t- **No arguments**.\n",
      "13. **billing_charge_analyze_summary**:\n",
      "\t- Description: Useful for providing how user's billing history compares to the previous month.\n",
      "\t- **No arguments**.\n",
      "14. **billing_charge_analyze_discount**:\n",
      "\t- Description: Useful for providing details of the discount on billing charges and the increase/decrease compared to last month.\n",
      "\t- **No arguments**.\n",
      "15. **billing_charge_data_usage**:\n",
      "\t- Description: Useful for providing data usage for this month and compare to last month.\n",
      "\t- **No arguments**.\n",
      "16. **COMPARE_BETWEEN_MOBILE_PLAN**:\n",
      "\t- Description: Useful when compare features of multiple SKTelecom mobile plans.\n",
      "\t- **Required Arguments**:\n",
      "\t\t- `plans` (array of strings)\n",
      "17. **COMPARE_CHANGE_MY_MOBILE_PLAN**:\n",
      "\t- Description: Useful when compare when changing your plan.\n",
      "\t- **Required Arguments**:\n",
      "\t- **Optional Arguments**:\n",
      "\t\t- `plan` (string)\n",
      "18. **SEARCH_MOBILE_PLAN**:\n",
      "\t- Description: This function searches or offer mobile plans based on a specific keyword.\n",
      "\t- **Optional Arguments**:\n",
      "\t\t- `keywords` (object)\n",
      "19. **AVAILABLE_MOBILE_PLAN**:\n",
      "\t- Description: This function is used to check whether user can subscribe to the given plan.\n",
      "\t- **Optional Arguments**:\n",
      "\t\t- `keywords` (object)\n",
      "\n"
     ]
    }
   ],
   "source": [
    "print(system_prompt_template)"
   ]
  },
  {
   "cell_type": "code",
   "execution_count": 23,
   "id": "a101dbe5-2a8a-4528-acd3-76cdda200922",
   "metadata": {
    "tags": []
   },
   "outputs": [],
   "source": [
    "shot_prompt_template = f'''{system_prompt_template}\n",
    "\n",
    "### EXAMPLES'''"
   ]
  },
  {
   "cell_type": "code",
   "execution_count": 24,
   "id": "dfd2a8af-738b-44cb-942f-7e4468f4df9c",
   "metadata": {},
   "outputs": [],
   "source": [
    "example_template_list = []"
   ]
  },
  {
   "cell_type": "code",
   "execution_count": 25,
   "id": "b11524a2-1ba0-4af6-a926-f6765ba6828f",
   "metadata": {},
   "outputs": [],
   "source": [
    "example_template_list.append('''\n",
    "user: \"_user_msg_\"\n",
    "assistant: _LLM_output_\n",
    "''')"
   ]
  },
  {
   "cell_type": "code",
   "execution_count": 26,
   "id": "c2f201a2-4665-4adb-9016-6a42fbb29f4d",
   "metadata": {
    "tags": []
   },
   "outputs": [],
   "source": [
    "# example_template_list.append('''\n",
    "# {\"role\": \"user\", \"content\": \"_user_msg_\"},\n",
    "# {\"role\": \"assistant\", \"content\": _LLM_output_}\n",
    "# ''')"
   ]
  },
  {
   "cell_type": "code",
   "execution_count": 27,
   "id": "0259555d-fc04-4665-93ce-8ebb29f30e0d",
   "metadata": {
    "tags": []
   },
   "outputs": [],
   "source": [
    "system_prompt_list_list = []\n",
    "for ex_idx in range(len(example_template_list)):\n",
    "    example_template = example_template_list[ex_idx]\n",
    "    system_prompt_list = []\n",
    "    for i in range(len(feature_index_list)):\n",
    "        feature_index = feature_index_list[i]\n",
    "        examples = ''\n",
    "        for idx in feature_index:\n",
    "            element = train_data.iloc[idx]\n",
    "            temp_example = example_template.replace('_user_msg_',element['Utterance Sentence']).replace('_LLM_output_',element['LLM output'])\n",
    "            examples += temp_example\n",
    "            # examples += example_template.format(user_msg = element['Utterance Sentence'], label = element['LLM output'])\n",
    "        system_prompt_list.append(shot_prompt_template + examples)\n",
    "    system_prompt_list_list.append(system_prompt_list)"
   ]
  },
  {
   "cell_type": "code",
   "execution_count": 28,
   "id": "b97e2d8a-f24b-4827-9f6f-357d6db529f5",
   "metadata": {},
   "outputs": [],
   "source": [
    "dir_path = 'evaluation/hjs/call_plan_classifier'\n",
    "for i in range(len(system_prompt_list_list[0])):\n",
    "    file_name = f'system_prompt_gpt4o_type4_1_240912_{shot_num}shot_comb{i}.txt'\n",
    "    with open (os.path.join(dir_path, file_name), 'w') as file:\n",
    "        file.write(system_prompt_list_list[0][i])\n",
    "# for i in range(len(system_prompt_list_list[1])):\n",
    "#     file_name = f'system_prompt_gpt4o_type3_2_240912_{shot_num}shot_comb{i}.txt'\n",
    "#     with open (os.path.join(dir_path, file_name), 'w') as file:\n",
    "#         file.write(system_prompt_list_list[1][i])"
   ]
  },
  {
   "cell_type": "markdown",
   "id": "7f3934c4-c5ca-43b3-a058-f8b0d36ad9cf",
   "metadata": {
    "tags": []
   },
   "source": [
    "# 5. PET"
   ]
  },
  {
   "cell_type": "code",
   "execution_count": 29,
   "id": "c0d4eca1-19e8-46aa-a1cd-c4481039701c",
   "metadata": {
    "tags": []
   },
   "outputs": [],
   "source": [
    "def gen_PET(\n",
    "    url=\"http://172.18.243.211:13100\", path=\"/api/v2/chat/completions/stream\", **kwargs\n",
    "):\n",
    "    resp = requests.post(\n",
    "        url + path,\n",
    "        json={\"is_production\": False, \"transaction_id\": \"test\", **kwargs},\n",
    "    )\n",
    "    try:\n",
    "        result = resp.json()\n",
    "        result['elapsed'] = resp.elapsed.total_seconds()\n",
    "    except Exception as e:\n",
    "        result = resp\n",
    "\n",
    "    return result"
   ]
  },
  {
   "cell_type": "code",
   "execution_count": 30,
   "id": "7072a7a7-c2ab-4cc7-b056-8f9697386c7b",
   "metadata": {
    "tags": []
   },
   "outputs": [],
   "source": [
    "promptid = 124261\n",
    "path = '/api/v2/chat/completions'"
   ]
  },
  {
   "cell_type": "code",
   "execution_count": 31,
   "id": "1b956c0c-8e91-4476-9f60-821843babeb9",
   "metadata": {
    "tags": []
   },
   "outputs": [],
   "source": [
    "system_prompt = {\n",
    "        \"role\": \"system\",\n",
    "        \"content\": ''\n",
    "}"
   ]
  },
  {
   "cell_type": "code",
   "execution_count": 32,
   "id": "2978bb01-57ac-4372-96c0-611c79617c60",
   "metadata": {
    "tags": []
   },
   "outputs": [],
   "source": [
    "user_prompt = {\n",
    "    \"role\": \"user\",\n",
    "    \"content\": ''\n",
    "}"
   ]
  },
  {
   "cell_type": "code",
   "execution_count": 33,
   "id": "b688adac-e6dd-4ca8-9e4a-a6415f41e58f",
   "metadata": {
    "tags": []
   },
   "outputs": [
    {
     "name": "stdout",
     "output_type": "stream",
     "text": [
      "cv check\n"
     ]
    },
    {
     "name": "stderr",
     "output_type": "stream",
     "text": [
      "541it [09:29,  1.05s/it]\n",
      "541it [09:05,  1.01s/it]\n",
      "541it [08:55,  1.01it/s]\n",
      "541it [09:03,  1.00s/it]\n",
      "541it [09:14,  1.03s/it]\n",
      "541it [08:55,  1.01it/s]\n",
      "359it [05:44,  1.04it/s]\n"
     ]
    },
    {
     "ename": "ConnectionError",
     "evalue": "('Connection aborted.', RemoteDisconnected('Remote end closed connection without response'))",
     "output_type": "error",
     "traceback": [
      "\u001b[0;31m---------------------------------------------------------------------------\u001b[0m",
      "\u001b[0;31mRemoteDisconnected\u001b[0m                        Traceback (most recent call last)",
      "File \u001b[0;32m/opt/conda/lib/python3.10/site-packages/urllib3/connectionpool.py:703\u001b[0m, in \u001b[0;36mHTTPConnectionPool.urlopen\u001b[0;34m(self, method, url, body, headers, retries, redirect, assert_same_host, timeout, pool_timeout, release_conn, chunked, body_pos, **response_kw)\u001b[0m\n\u001b[1;32m    702\u001b[0m \u001b[38;5;66;03m# Make the request on the httplib connection object.\u001b[39;00m\n\u001b[0;32m--> 703\u001b[0m httplib_response \u001b[38;5;241m=\u001b[39m \u001b[38;5;28;43mself\u001b[39;49m\u001b[38;5;241;43m.\u001b[39;49m\u001b[43m_make_request\u001b[49m\u001b[43m(\u001b[49m\n\u001b[1;32m    704\u001b[0m \u001b[43m    \u001b[49m\u001b[43mconn\u001b[49m\u001b[43m,\u001b[49m\n\u001b[1;32m    705\u001b[0m \u001b[43m    \u001b[49m\u001b[43mmethod\u001b[49m\u001b[43m,\u001b[49m\n\u001b[1;32m    706\u001b[0m \u001b[43m    \u001b[49m\u001b[43murl\u001b[49m\u001b[43m,\u001b[49m\n\u001b[1;32m    707\u001b[0m \u001b[43m    \u001b[49m\u001b[43mtimeout\u001b[49m\u001b[38;5;241;43m=\u001b[39;49m\u001b[43mtimeout_obj\u001b[49m\u001b[43m,\u001b[49m\n\u001b[1;32m    708\u001b[0m \u001b[43m    \u001b[49m\u001b[43mbody\u001b[49m\u001b[38;5;241;43m=\u001b[39;49m\u001b[43mbody\u001b[49m\u001b[43m,\u001b[49m\n\u001b[1;32m    709\u001b[0m \u001b[43m    \u001b[49m\u001b[43mheaders\u001b[49m\u001b[38;5;241;43m=\u001b[39;49m\u001b[43mheaders\u001b[49m\u001b[43m,\u001b[49m\n\u001b[1;32m    710\u001b[0m \u001b[43m    \u001b[49m\u001b[43mchunked\u001b[49m\u001b[38;5;241;43m=\u001b[39;49m\u001b[43mchunked\u001b[49m\u001b[43m,\u001b[49m\n\u001b[1;32m    711\u001b[0m \u001b[43m\u001b[49m\u001b[43m)\u001b[49m\n\u001b[1;32m    713\u001b[0m \u001b[38;5;66;03m# If we're going to release the connection in ``finally:``, then\u001b[39;00m\n\u001b[1;32m    714\u001b[0m \u001b[38;5;66;03m# the response doesn't need to know about the connection. Otherwise\u001b[39;00m\n\u001b[1;32m    715\u001b[0m \u001b[38;5;66;03m# it will also try to release it and we'll have a double-release\u001b[39;00m\n\u001b[1;32m    716\u001b[0m \u001b[38;5;66;03m# mess.\u001b[39;00m\n",
      "File \u001b[0;32m/opt/conda/lib/python3.10/site-packages/urllib3/connectionpool.py:449\u001b[0m, in \u001b[0;36mHTTPConnectionPool._make_request\u001b[0;34m(self, conn, method, url, timeout, chunked, **httplib_request_kw)\u001b[0m\n\u001b[1;32m    445\u001b[0m         \u001b[38;5;28;01mexcept\u001b[39;00m \u001b[38;5;167;01mBaseException\u001b[39;00m \u001b[38;5;28;01mas\u001b[39;00m e:\n\u001b[1;32m    446\u001b[0m             \u001b[38;5;66;03m# Remove the TypeError from the exception chain in\u001b[39;00m\n\u001b[1;32m    447\u001b[0m             \u001b[38;5;66;03m# Python 3 (including for exceptions like SystemExit).\u001b[39;00m\n\u001b[1;32m    448\u001b[0m             \u001b[38;5;66;03m# Otherwise it looks like a bug in the code.\u001b[39;00m\n\u001b[0;32m--> 449\u001b[0m             \u001b[43msix\u001b[49m\u001b[38;5;241;43m.\u001b[39;49m\u001b[43mraise_from\u001b[49m\u001b[43m(\u001b[49m\u001b[43me\u001b[49m\u001b[43m,\u001b[49m\u001b[43m \u001b[49m\u001b[38;5;28;43;01mNone\u001b[39;49;00m\u001b[43m)\u001b[49m\n\u001b[1;32m    450\u001b[0m \u001b[38;5;28;01mexcept\u001b[39;00m (SocketTimeout, BaseSSLError, SocketError) \u001b[38;5;28;01mas\u001b[39;00m e:\n",
      "File \u001b[0;32m<string>:3\u001b[0m, in \u001b[0;36mraise_from\u001b[0;34m(value, from_value)\u001b[0m\n",
      "File \u001b[0;32m/opt/conda/lib/python3.10/site-packages/urllib3/connectionpool.py:444\u001b[0m, in \u001b[0;36mHTTPConnectionPool._make_request\u001b[0;34m(self, conn, method, url, timeout, chunked, **httplib_request_kw)\u001b[0m\n\u001b[1;32m    443\u001b[0m \u001b[38;5;28;01mtry\u001b[39;00m:\n\u001b[0;32m--> 444\u001b[0m     httplib_response \u001b[38;5;241m=\u001b[39m \u001b[43mconn\u001b[49m\u001b[38;5;241;43m.\u001b[39;49m\u001b[43mgetresponse\u001b[49m\u001b[43m(\u001b[49m\u001b[43m)\u001b[49m\n\u001b[1;32m    445\u001b[0m \u001b[38;5;28;01mexcept\u001b[39;00m \u001b[38;5;167;01mBaseException\u001b[39;00m \u001b[38;5;28;01mas\u001b[39;00m e:\n\u001b[1;32m    446\u001b[0m     \u001b[38;5;66;03m# Remove the TypeError from the exception chain in\u001b[39;00m\n\u001b[1;32m    447\u001b[0m     \u001b[38;5;66;03m# Python 3 (including for exceptions like SystemExit).\u001b[39;00m\n\u001b[1;32m    448\u001b[0m     \u001b[38;5;66;03m# Otherwise it looks like a bug in the code.\u001b[39;00m\n",
      "File \u001b[0;32m/opt/conda/lib/python3.10/http/client.py:1374\u001b[0m, in \u001b[0;36mHTTPConnection.getresponse\u001b[0;34m(self)\u001b[0m\n\u001b[1;32m   1373\u001b[0m \u001b[38;5;28;01mtry\u001b[39;00m:\n\u001b[0;32m-> 1374\u001b[0m     \u001b[43mresponse\u001b[49m\u001b[38;5;241;43m.\u001b[39;49m\u001b[43mbegin\u001b[49m\u001b[43m(\u001b[49m\u001b[43m)\u001b[49m\n\u001b[1;32m   1375\u001b[0m \u001b[38;5;28;01mexcept\u001b[39;00m \u001b[38;5;167;01mConnectionError\u001b[39;00m:\n",
      "File \u001b[0;32m/opt/conda/lib/python3.10/http/client.py:318\u001b[0m, in \u001b[0;36mHTTPResponse.begin\u001b[0;34m(self)\u001b[0m\n\u001b[1;32m    317\u001b[0m \u001b[38;5;28;01mwhile\u001b[39;00m \u001b[38;5;28;01mTrue\u001b[39;00m:\n\u001b[0;32m--> 318\u001b[0m     version, status, reason \u001b[38;5;241m=\u001b[39m \u001b[38;5;28;43mself\u001b[39;49m\u001b[38;5;241;43m.\u001b[39;49m\u001b[43m_read_status\u001b[49m\u001b[43m(\u001b[49m\u001b[43m)\u001b[49m\n\u001b[1;32m    319\u001b[0m     \u001b[38;5;28;01mif\u001b[39;00m status \u001b[38;5;241m!=\u001b[39m CONTINUE:\n",
      "File \u001b[0;32m/opt/conda/lib/python3.10/http/client.py:287\u001b[0m, in \u001b[0;36mHTTPResponse._read_status\u001b[0;34m(self)\u001b[0m\n\u001b[1;32m    284\u001b[0m \u001b[38;5;28;01mif\u001b[39;00m \u001b[38;5;129;01mnot\u001b[39;00m line:\n\u001b[1;32m    285\u001b[0m     \u001b[38;5;66;03m# Presumably, the server closed the connection before\u001b[39;00m\n\u001b[1;32m    286\u001b[0m     \u001b[38;5;66;03m# sending a valid response.\u001b[39;00m\n\u001b[0;32m--> 287\u001b[0m     \u001b[38;5;28;01mraise\u001b[39;00m RemoteDisconnected(\u001b[38;5;124m\"\u001b[39m\u001b[38;5;124mRemote end closed connection without\u001b[39m\u001b[38;5;124m\"\u001b[39m\n\u001b[1;32m    288\u001b[0m                              \u001b[38;5;124m\"\u001b[39m\u001b[38;5;124m response\u001b[39m\u001b[38;5;124m\"\u001b[39m)\n\u001b[1;32m    289\u001b[0m \u001b[38;5;28;01mtry\u001b[39;00m:\n",
      "\u001b[0;31mRemoteDisconnected\u001b[0m: Remote end closed connection without response",
      "\nDuring handling of the above exception, another exception occurred:\n",
      "\u001b[0;31mProtocolError\u001b[0m                             Traceback (most recent call last)",
      "File \u001b[0;32m/opt/conda/lib/python3.10/site-packages/requests/adapters.py:486\u001b[0m, in \u001b[0;36mHTTPAdapter.send\u001b[0;34m(self, request, stream, timeout, verify, cert, proxies)\u001b[0m\n\u001b[1;32m    485\u001b[0m \u001b[38;5;28;01mtry\u001b[39;00m:\n\u001b[0;32m--> 486\u001b[0m     resp \u001b[38;5;241m=\u001b[39m \u001b[43mconn\u001b[49m\u001b[38;5;241;43m.\u001b[39;49m\u001b[43murlopen\u001b[49m\u001b[43m(\u001b[49m\n\u001b[1;32m    487\u001b[0m \u001b[43m        \u001b[49m\u001b[43mmethod\u001b[49m\u001b[38;5;241;43m=\u001b[39;49m\u001b[43mrequest\u001b[49m\u001b[38;5;241;43m.\u001b[39;49m\u001b[43mmethod\u001b[49m\u001b[43m,\u001b[49m\n\u001b[1;32m    488\u001b[0m \u001b[43m        \u001b[49m\u001b[43murl\u001b[49m\u001b[38;5;241;43m=\u001b[39;49m\u001b[43murl\u001b[49m\u001b[43m,\u001b[49m\n\u001b[1;32m    489\u001b[0m \u001b[43m        \u001b[49m\u001b[43mbody\u001b[49m\u001b[38;5;241;43m=\u001b[39;49m\u001b[43mrequest\u001b[49m\u001b[38;5;241;43m.\u001b[39;49m\u001b[43mbody\u001b[49m\u001b[43m,\u001b[49m\n\u001b[1;32m    490\u001b[0m \u001b[43m        \u001b[49m\u001b[43mheaders\u001b[49m\u001b[38;5;241;43m=\u001b[39;49m\u001b[43mrequest\u001b[49m\u001b[38;5;241;43m.\u001b[39;49m\u001b[43mheaders\u001b[49m\u001b[43m,\u001b[49m\n\u001b[1;32m    491\u001b[0m \u001b[43m        \u001b[49m\u001b[43mredirect\u001b[49m\u001b[38;5;241;43m=\u001b[39;49m\u001b[38;5;28;43;01mFalse\u001b[39;49;00m\u001b[43m,\u001b[49m\n\u001b[1;32m    492\u001b[0m \u001b[43m        \u001b[49m\u001b[43massert_same_host\u001b[49m\u001b[38;5;241;43m=\u001b[39;49m\u001b[38;5;28;43;01mFalse\u001b[39;49;00m\u001b[43m,\u001b[49m\n\u001b[1;32m    493\u001b[0m \u001b[43m        \u001b[49m\u001b[43mpreload_content\u001b[49m\u001b[38;5;241;43m=\u001b[39;49m\u001b[38;5;28;43;01mFalse\u001b[39;49;00m\u001b[43m,\u001b[49m\n\u001b[1;32m    494\u001b[0m \u001b[43m        \u001b[49m\u001b[43mdecode_content\u001b[49m\u001b[38;5;241;43m=\u001b[39;49m\u001b[38;5;28;43;01mFalse\u001b[39;49;00m\u001b[43m,\u001b[49m\n\u001b[1;32m    495\u001b[0m \u001b[43m        \u001b[49m\u001b[43mretries\u001b[49m\u001b[38;5;241;43m=\u001b[39;49m\u001b[38;5;28;43mself\u001b[39;49m\u001b[38;5;241;43m.\u001b[39;49m\u001b[43mmax_retries\u001b[49m\u001b[43m,\u001b[49m\n\u001b[1;32m    496\u001b[0m \u001b[43m        \u001b[49m\u001b[43mtimeout\u001b[49m\u001b[38;5;241;43m=\u001b[39;49m\u001b[43mtimeout\u001b[49m\u001b[43m,\u001b[49m\n\u001b[1;32m    497\u001b[0m \u001b[43m        \u001b[49m\u001b[43mchunked\u001b[49m\u001b[38;5;241;43m=\u001b[39;49m\u001b[43mchunked\u001b[49m\u001b[43m,\u001b[49m\n\u001b[1;32m    498\u001b[0m \u001b[43m    \u001b[49m\u001b[43m)\u001b[49m\n\u001b[1;32m    500\u001b[0m \u001b[38;5;28;01mexcept\u001b[39;00m (ProtocolError, \u001b[38;5;167;01mOSError\u001b[39;00m) \u001b[38;5;28;01mas\u001b[39;00m err:\n",
      "File \u001b[0;32m/opt/conda/lib/python3.10/site-packages/urllib3/connectionpool.py:787\u001b[0m, in \u001b[0;36mHTTPConnectionPool.urlopen\u001b[0;34m(self, method, url, body, headers, retries, redirect, assert_same_host, timeout, pool_timeout, release_conn, chunked, body_pos, **response_kw)\u001b[0m\n\u001b[1;32m    785\u001b[0m     e \u001b[38;5;241m=\u001b[39m ProtocolError(\u001b[38;5;124m\"\u001b[39m\u001b[38;5;124mConnection aborted.\u001b[39m\u001b[38;5;124m\"\u001b[39m, e)\n\u001b[0;32m--> 787\u001b[0m retries \u001b[38;5;241m=\u001b[39m \u001b[43mretries\u001b[49m\u001b[38;5;241;43m.\u001b[39;49m\u001b[43mincrement\u001b[49m\u001b[43m(\u001b[49m\n\u001b[1;32m    788\u001b[0m \u001b[43m    \u001b[49m\u001b[43mmethod\u001b[49m\u001b[43m,\u001b[49m\u001b[43m \u001b[49m\u001b[43murl\u001b[49m\u001b[43m,\u001b[49m\u001b[43m \u001b[49m\u001b[43merror\u001b[49m\u001b[38;5;241;43m=\u001b[39;49m\u001b[43me\u001b[49m\u001b[43m,\u001b[49m\u001b[43m \u001b[49m\u001b[43m_pool\u001b[49m\u001b[38;5;241;43m=\u001b[39;49m\u001b[38;5;28;43mself\u001b[39;49m\u001b[43m,\u001b[49m\u001b[43m \u001b[49m\u001b[43m_stacktrace\u001b[49m\u001b[38;5;241;43m=\u001b[39;49m\u001b[43msys\u001b[49m\u001b[38;5;241;43m.\u001b[39;49m\u001b[43mexc_info\u001b[49m\u001b[43m(\u001b[49m\u001b[43m)\u001b[49m\u001b[43m[\u001b[49m\u001b[38;5;241;43m2\u001b[39;49m\u001b[43m]\u001b[49m\n\u001b[1;32m    789\u001b[0m \u001b[43m\u001b[49m\u001b[43m)\u001b[49m\n\u001b[1;32m    790\u001b[0m retries\u001b[38;5;241m.\u001b[39msleep()\n",
      "File \u001b[0;32m/opt/conda/lib/python3.10/site-packages/urllib3/util/retry.py:550\u001b[0m, in \u001b[0;36mRetry.increment\u001b[0;34m(self, method, url, response, error, _pool, _stacktrace)\u001b[0m\n\u001b[1;32m    549\u001b[0m \u001b[38;5;28;01mif\u001b[39;00m read \u001b[38;5;129;01mis\u001b[39;00m \u001b[38;5;28;01mFalse\u001b[39;00m \u001b[38;5;129;01mor\u001b[39;00m \u001b[38;5;129;01mnot\u001b[39;00m \u001b[38;5;28mself\u001b[39m\u001b[38;5;241m.\u001b[39m_is_method_retryable(method):\n\u001b[0;32m--> 550\u001b[0m     \u001b[38;5;28;01mraise\u001b[39;00m \u001b[43msix\u001b[49m\u001b[38;5;241;43m.\u001b[39;49m\u001b[43mreraise\u001b[49m\u001b[43m(\u001b[49m\u001b[38;5;28;43mtype\u001b[39;49m\u001b[43m(\u001b[49m\u001b[43merror\u001b[49m\u001b[43m)\u001b[49m\u001b[43m,\u001b[49m\u001b[43m \u001b[49m\u001b[43merror\u001b[49m\u001b[43m,\u001b[49m\u001b[43m \u001b[49m\u001b[43m_stacktrace\u001b[49m\u001b[43m)\u001b[49m\n\u001b[1;32m    551\u001b[0m \u001b[38;5;28;01melif\u001b[39;00m read \u001b[38;5;129;01mis\u001b[39;00m \u001b[38;5;129;01mnot\u001b[39;00m \u001b[38;5;28;01mNone\u001b[39;00m:\n",
      "File \u001b[0;32m/opt/conda/lib/python3.10/site-packages/urllib3/packages/six.py:769\u001b[0m, in \u001b[0;36mreraise\u001b[0;34m(tp, value, tb)\u001b[0m\n\u001b[1;32m    768\u001b[0m \u001b[38;5;28;01mif\u001b[39;00m value\u001b[38;5;241m.\u001b[39m__traceback__ \u001b[38;5;129;01mis\u001b[39;00m \u001b[38;5;129;01mnot\u001b[39;00m tb:\n\u001b[0;32m--> 769\u001b[0m     \u001b[38;5;28;01mraise\u001b[39;00m value\u001b[38;5;241m.\u001b[39mwith_traceback(tb)\n\u001b[1;32m    770\u001b[0m \u001b[38;5;28;01mraise\u001b[39;00m value\n",
      "File \u001b[0;32m/opt/conda/lib/python3.10/site-packages/urllib3/connectionpool.py:703\u001b[0m, in \u001b[0;36mHTTPConnectionPool.urlopen\u001b[0;34m(self, method, url, body, headers, retries, redirect, assert_same_host, timeout, pool_timeout, release_conn, chunked, body_pos, **response_kw)\u001b[0m\n\u001b[1;32m    702\u001b[0m \u001b[38;5;66;03m# Make the request on the httplib connection object.\u001b[39;00m\n\u001b[0;32m--> 703\u001b[0m httplib_response \u001b[38;5;241m=\u001b[39m \u001b[38;5;28;43mself\u001b[39;49m\u001b[38;5;241;43m.\u001b[39;49m\u001b[43m_make_request\u001b[49m\u001b[43m(\u001b[49m\n\u001b[1;32m    704\u001b[0m \u001b[43m    \u001b[49m\u001b[43mconn\u001b[49m\u001b[43m,\u001b[49m\n\u001b[1;32m    705\u001b[0m \u001b[43m    \u001b[49m\u001b[43mmethod\u001b[49m\u001b[43m,\u001b[49m\n\u001b[1;32m    706\u001b[0m \u001b[43m    \u001b[49m\u001b[43murl\u001b[49m\u001b[43m,\u001b[49m\n\u001b[1;32m    707\u001b[0m \u001b[43m    \u001b[49m\u001b[43mtimeout\u001b[49m\u001b[38;5;241;43m=\u001b[39;49m\u001b[43mtimeout_obj\u001b[49m\u001b[43m,\u001b[49m\n\u001b[1;32m    708\u001b[0m \u001b[43m    \u001b[49m\u001b[43mbody\u001b[49m\u001b[38;5;241;43m=\u001b[39;49m\u001b[43mbody\u001b[49m\u001b[43m,\u001b[49m\n\u001b[1;32m    709\u001b[0m \u001b[43m    \u001b[49m\u001b[43mheaders\u001b[49m\u001b[38;5;241;43m=\u001b[39;49m\u001b[43mheaders\u001b[49m\u001b[43m,\u001b[49m\n\u001b[1;32m    710\u001b[0m \u001b[43m    \u001b[49m\u001b[43mchunked\u001b[49m\u001b[38;5;241;43m=\u001b[39;49m\u001b[43mchunked\u001b[49m\u001b[43m,\u001b[49m\n\u001b[1;32m    711\u001b[0m \u001b[43m\u001b[49m\u001b[43m)\u001b[49m\n\u001b[1;32m    713\u001b[0m \u001b[38;5;66;03m# If we're going to release the connection in ``finally:``, then\u001b[39;00m\n\u001b[1;32m    714\u001b[0m \u001b[38;5;66;03m# the response doesn't need to know about the connection. Otherwise\u001b[39;00m\n\u001b[1;32m    715\u001b[0m \u001b[38;5;66;03m# it will also try to release it and we'll have a double-release\u001b[39;00m\n\u001b[1;32m    716\u001b[0m \u001b[38;5;66;03m# mess.\u001b[39;00m\n",
      "File \u001b[0;32m/opt/conda/lib/python3.10/site-packages/urllib3/connectionpool.py:449\u001b[0m, in \u001b[0;36mHTTPConnectionPool._make_request\u001b[0;34m(self, conn, method, url, timeout, chunked, **httplib_request_kw)\u001b[0m\n\u001b[1;32m    445\u001b[0m         \u001b[38;5;28;01mexcept\u001b[39;00m \u001b[38;5;167;01mBaseException\u001b[39;00m \u001b[38;5;28;01mas\u001b[39;00m e:\n\u001b[1;32m    446\u001b[0m             \u001b[38;5;66;03m# Remove the TypeError from the exception chain in\u001b[39;00m\n\u001b[1;32m    447\u001b[0m             \u001b[38;5;66;03m# Python 3 (including for exceptions like SystemExit).\u001b[39;00m\n\u001b[1;32m    448\u001b[0m             \u001b[38;5;66;03m# Otherwise it looks like a bug in the code.\u001b[39;00m\n\u001b[0;32m--> 449\u001b[0m             \u001b[43msix\u001b[49m\u001b[38;5;241;43m.\u001b[39;49m\u001b[43mraise_from\u001b[49m\u001b[43m(\u001b[49m\u001b[43me\u001b[49m\u001b[43m,\u001b[49m\u001b[43m \u001b[49m\u001b[38;5;28;43;01mNone\u001b[39;49;00m\u001b[43m)\u001b[49m\n\u001b[1;32m    450\u001b[0m \u001b[38;5;28;01mexcept\u001b[39;00m (SocketTimeout, BaseSSLError, SocketError) \u001b[38;5;28;01mas\u001b[39;00m e:\n",
      "File \u001b[0;32m<string>:3\u001b[0m, in \u001b[0;36mraise_from\u001b[0;34m(value, from_value)\u001b[0m\n",
      "File \u001b[0;32m/opt/conda/lib/python3.10/site-packages/urllib3/connectionpool.py:444\u001b[0m, in \u001b[0;36mHTTPConnectionPool._make_request\u001b[0;34m(self, conn, method, url, timeout, chunked, **httplib_request_kw)\u001b[0m\n\u001b[1;32m    443\u001b[0m \u001b[38;5;28;01mtry\u001b[39;00m:\n\u001b[0;32m--> 444\u001b[0m     httplib_response \u001b[38;5;241m=\u001b[39m \u001b[43mconn\u001b[49m\u001b[38;5;241;43m.\u001b[39;49m\u001b[43mgetresponse\u001b[49m\u001b[43m(\u001b[49m\u001b[43m)\u001b[49m\n\u001b[1;32m    445\u001b[0m \u001b[38;5;28;01mexcept\u001b[39;00m \u001b[38;5;167;01mBaseException\u001b[39;00m \u001b[38;5;28;01mas\u001b[39;00m e:\n\u001b[1;32m    446\u001b[0m     \u001b[38;5;66;03m# Remove the TypeError from the exception chain in\u001b[39;00m\n\u001b[1;32m    447\u001b[0m     \u001b[38;5;66;03m# Python 3 (including for exceptions like SystemExit).\u001b[39;00m\n\u001b[1;32m    448\u001b[0m     \u001b[38;5;66;03m# Otherwise it looks like a bug in the code.\u001b[39;00m\n",
      "File \u001b[0;32m/opt/conda/lib/python3.10/http/client.py:1374\u001b[0m, in \u001b[0;36mHTTPConnection.getresponse\u001b[0;34m(self)\u001b[0m\n\u001b[1;32m   1373\u001b[0m \u001b[38;5;28;01mtry\u001b[39;00m:\n\u001b[0;32m-> 1374\u001b[0m     \u001b[43mresponse\u001b[49m\u001b[38;5;241;43m.\u001b[39;49m\u001b[43mbegin\u001b[49m\u001b[43m(\u001b[49m\u001b[43m)\u001b[49m\n\u001b[1;32m   1375\u001b[0m \u001b[38;5;28;01mexcept\u001b[39;00m \u001b[38;5;167;01mConnectionError\u001b[39;00m:\n",
      "File \u001b[0;32m/opt/conda/lib/python3.10/http/client.py:318\u001b[0m, in \u001b[0;36mHTTPResponse.begin\u001b[0;34m(self)\u001b[0m\n\u001b[1;32m    317\u001b[0m \u001b[38;5;28;01mwhile\u001b[39;00m \u001b[38;5;28;01mTrue\u001b[39;00m:\n\u001b[0;32m--> 318\u001b[0m     version, status, reason \u001b[38;5;241m=\u001b[39m \u001b[38;5;28;43mself\u001b[39;49m\u001b[38;5;241;43m.\u001b[39;49m\u001b[43m_read_status\u001b[49m\u001b[43m(\u001b[49m\u001b[43m)\u001b[49m\n\u001b[1;32m    319\u001b[0m     \u001b[38;5;28;01mif\u001b[39;00m status \u001b[38;5;241m!=\u001b[39m CONTINUE:\n",
      "File \u001b[0;32m/opt/conda/lib/python3.10/http/client.py:287\u001b[0m, in \u001b[0;36mHTTPResponse._read_status\u001b[0;34m(self)\u001b[0m\n\u001b[1;32m    284\u001b[0m \u001b[38;5;28;01mif\u001b[39;00m \u001b[38;5;129;01mnot\u001b[39;00m line:\n\u001b[1;32m    285\u001b[0m     \u001b[38;5;66;03m# Presumably, the server closed the connection before\u001b[39;00m\n\u001b[1;32m    286\u001b[0m     \u001b[38;5;66;03m# sending a valid response.\u001b[39;00m\n\u001b[0;32m--> 287\u001b[0m     \u001b[38;5;28;01mraise\u001b[39;00m RemoteDisconnected(\u001b[38;5;124m\"\u001b[39m\u001b[38;5;124mRemote end closed connection without\u001b[39m\u001b[38;5;124m\"\u001b[39m\n\u001b[1;32m    288\u001b[0m                              \u001b[38;5;124m\"\u001b[39m\u001b[38;5;124m response\u001b[39m\u001b[38;5;124m\"\u001b[39m)\n\u001b[1;32m    289\u001b[0m \u001b[38;5;28;01mtry\u001b[39;00m:\n",
      "\u001b[0;31mProtocolError\u001b[0m: ('Connection aborted.', RemoteDisconnected('Remote end closed connection without response'))",
      "\nDuring handling of the above exception, another exception occurred:\n",
      "\u001b[0;31mConnectionError\u001b[0m                           Traceback (most recent call last)",
      "Cell \u001b[0;32mIn[33], line 17\u001b[0m\n\u001b[1;32m     15\u001b[0m record[\u001b[38;5;124m'\u001b[39m\u001b[38;5;124mtrue_response\u001b[39m\u001b[38;5;124m'\u001b[39m] \u001b[38;5;241m=\u001b[39m \u001b[38;5;28meval\u001b[39m(element[\u001b[38;5;124m'\u001b[39m\u001b[38;5;124mLLM output\u001b[39m\u001b[38;5;124m'\u001b[39m])\n\u001b[1;32m     16\u001b[0m user_prompt[\u001b[38;5;124m'\u001b[39m\u001b[38;5;124mcontent\u001b[39m\u001b[38;5;124m'\u001b[39m] \u001b[38;5;241m=\u001b[39m element[\u001b[38;5;124m'\u001b[39m\u001b[38;5;124mUtterance Sentence\u001b[39m\u001b[38;5;124m'\u001b[39m]\n\u001b[0;32m---> 17\u001b[0m gen_result \u001b[38;5;241m=\u001b[39m \u001b[43mgen_PET\u001b[49m\u001b[43m(\u001b[49m\n\u001b[1;32m     18\u001b[0m \u001b[43m    \u001b[49m\u001b[43mpath\u001b[49m\u001b[38;5;241;43m=\u001b[39;49m\u001b[43mpath\u001b[49m\u001b[43m,\u001b[49m\n\u001b[1;32m     19\u001b[0m \u001b[43m    \u001b[49m\u001b[43mprompt_id\u001b[49m\u001b[38;5;241;43m=\u001b[39;49m\u001b[43mpromptid\u001b[49m\u001b[43m,\u001b[49m\n\u001b[1;32m     20\u001b[0m \u001b[43m    \u001b[49m\u001b[43mmessages\u001b[49m\u001b[38;5;241;43m=\u001b[39;49m\u001b[43m[\u001b[49m\u001b[43msystem_prompt\u001b[49m\u001b[43m,\u001b[49m\u001b[43muser_prompt\u001b[49m\u001b[43m]\u001b[49m\u001b[43m,\u001b[49m\n\u001b[1;32m     21\u001b[0m \u001b[43m    \u001b[49m\u001b[38;5;66;43;03m# tools=FUNCTIONS,\u001b[39;49;00m\n\u001b[1;32m     22\u001b[0m \u001b[43m    \u001b[49m\u001b[43mtemperature\u001b[49m\u001b[43m \u001b[49m\u001b[38;5;241;43m=\u001b[39;49m\u001b[43m \u001b[49m\u001b[38;5;241;43m0.\u001b[39;49m\n\u001b[1;32m     23\u001b[0m \u001b[43m\u001b[49m\u001b[43m)\u001b[49m\n\u001b[1;32m     24\u001b[0m \u001b[38;5;28;01mtry\u001b[39;00m:\n\u001b[1;32m     25\u001b[0m     record[\u001b[38;5;124mf\u001b[39m\u001b[38;5;124m'\u001b[39m\u001b[38;5;132;01m{\u001b[39;00mshot_num\u001b[38;5;132;01m}\u001b[39;00m\u001b[38;5;124m-shot comb\u001b[39m\u001b[38;5;132;01m{\u001b[39;00mi\u001b[38;5;132;01m}\u001b[39;00m\u001b[38;5;124m prompt\u001b[39m\u001b[38;5;124m'\u001b[39m] \u001b[38;5;241m=\u001b[39m \u001b[38;5;28meval\u001b[39m(gen_result[\u001b[38;5;124m'\u001b[39m\u001b[38;5;124mres\u001b[39m\u001b[38;5;124m'\u001b[39m][\u001b[38;5;124m'\u001b[39m\u001b[38;5;124mchoices\u001b[39m\u001b[38;5;124m'\u001b[39m][\u001b[38;5;241m0\u001b[39m][\u001b[38;5;124m'\u001b[39m\u001b[38;5;124mmessage\u001b[39m\u001b[38;5;124m'\u001b[39m][\u001b[38;5;124m'\u001b[39m\u001b[38;5;124mcontent\u001b[39m\u001b[38;5;124m'\u001b[39m])\n",
      "Cell \u001b[0;32mIn[29], line 4\u001b[0m, in \u001b[0;36mgen_PET\u001b[0;34m(url, path, **kwargs)\u001b[0m\n\u001b[1;32m      1\u001b[0m \u001b[38;5;28;01mdef\u001b[39;00m \u001b[38;5;21mgen_PET\u001b[39m(\n\u001b[1;32m      2\u001b[0m     url\u001b[38;5;241m=\u001b[39m\u001b[38;5;124m\"\u001b[39m\u001b[38;5;124mhttp://172.18.243.211:13100\u001b[39m\u001b[38;5;124m\"\u001b[39m, path\u001b[38;5;241m=\u001b[39m\u001b[38;5;124m\"\u001b[39m\u001b[38;5;124m/api/v2/chat/completions/stream\u001b[39m\u001b[38;5;124m\"\u001b[39m, \u001b[38;5;241m*\u001b[39m\u001b[38;5;241m*\u001b[39mkwargs\n\u001b[1;32m      3\u001b[0m ):\n\u001b[0;32m----> 4\u001b[0m     resp \u001b[38;5;241m=\u001b[39m \u001b[43mrequests\u001b[49m\u001b[38;5;241;43m.\u001b[39;49m\u001b[43mpost\u001b[49m\u001b[43m(\u001b[49m\n\u001b[1;32m      5\u001b[0m \u001b[43m        \u001b[49m\u001b[43murl\u001b[49m\u001b[43m \u001b[49m\u001b[38;5;241;43m+\u001b[39;49m\u001b[43m \u001b[49m\u001b[43mpath\u001b[49m\u001b[43m,\u001b[49m\n\u001b[1;32m      6\u001b[0m \u001b[43m        \u001b[49m\u001b[43mjson\u001b[49m\u001b[38;5;241;43m=\u001b[39;49m\u001b[43m{\u001b[49m\u001b[38;5;124;43m\"\u001b[39;49m\u001b[38;5;124;43mis_production\u001b[39;49m\u001b[38;5;124;43m\"\u001b[39;49m\u001b[43m:\u001b[49m\u001b[43m \u001b[49m\u001b[38;5;28;43;01mFalse\u001b[39;49;00m\u001b[43m,\u001b[49m\u001b[43m \u001b[49m\u001b[38;5;124;43m\"\u001b[39;49m\u001b[38;5;124;43mtransaction_id\u001b[39;49m\u001b[38;5;124;43m\"\u001b[39;49m\u001b[43m:\u001b[49m\u001b[43m \u001b[49m\u001b[38;5;124;43m\"\u001b[39;49m\u001b[38;5;124;43mtest\u001b[39;49m\u001b[38;5;124;43m\"\u001b[39;49m\u001b[43m,\u001b[49m\u001b[43m \u001b[49m\u001b[38;5;241;43m*\u001b[39;49m\u001b[38;5;241;43m*\u001b[39;49m\u001b[43mkwargs\u001b[49m\u001b[43m}\u001b[49m\u001b[43m,\u001b[49m\n\u001b[1;32m      7\u001b[0m \u001b[43m    \u001b[49m\u001b[43m)\u001b[49m\n\u001b[1;32m      8\u001b[0m     \u001b[38;5;28;01mtry\u001b[39;00m:\n\u001b[1;32m      9\u001b[0m         result \u001b[38;5;241m=\u001b[39m resp\u001b[38;5;241m.\u001b[39mjson()\n",
      "File \u001b[0;32m/opt/conda/lib/python3.10/site-packages/requests/api.py:115\u001b[0m, in \u001b[0;36mpost\u001b[0;34m(url, data, json, **kwargs)\u001b[0m\n\u001b[1;32m    103\u001b[0m \u001b[38;5;28;01mdef\u001b[39;00m \u001b[38;5;21mpost\u001b[39m(url, data\u001b[38;5;241m=\u001b[39m\u001b[38;5;28;01mNone\u001b[39;00m, json\u001b[38;5;241m=\u001b[39m\u001b[38;5;28;01mNone\u001b[39;00m, \u001b[38;5;241m*\u001b[39m\u001b[38;5;241m*\u001b[39mkwargs):\n\u001b[1;32m    104\u001b[0m \u001b[38;5;250m    \u001b[39m\u001b[38;5;124mr\u001b[39m\u001b[38;5;124;03m\"\"\"Sends a POST request.\u001b[39;00m\n\u001b[1;32m    105\u001b[0m \n\u001b[1;32m    106\u001b[0m \u001b[38;5;124;03m    :param url: URL for the new :class:`Request` object.\u001b[39;00m\n\u001b[0;32m   (...)\u001b[0m\n\u001b[1;32m    112\u001b[0m \u001b[38;5;124;03m    :rtype: requests.Response\u001b[39;00m\n\u001b[1;32m    113\u001b[0m \u001b[38;5;124;03m    \"\"\"\u001b[39;00m\n\u001b[0;32m--> 115\u001b[0m     \u001b[38;5;28;01mreturn\u001b[39;00m \u001b[43mrequest\u001b[49m\u001b[43m(\u001b[49m\u001b[38;5;124;43m\"\u001b[39;49m\u001b[38;5;124;43mpost\u001b[39;49m\u001b[38;5;124;43m\"\u001b[39;49m\u001b[43m,\u001b[49m\u001b[43m \u001b[49m\u001b[43murl\u001b[49m\u001b[43m,\u001b[49m\u001b[43m \u001b[49m\u001b[43mdata\u001b[49m\u001b[38;5;241;43m=\u001b[39;49m\u001b[43mdata\u001b[49m\u001b[43m,\u001b[49m\u001b[43m \u001b[49m\u001b[43mjson\u001b[49m\u001b[38;5;241;43m=\u001b[39;49m\u001b[43mjson\u001b[49m\u001b[43m,\u001b[49m\u001b[43m \u001b[49m\u001b[38;5;241;43m*\u001b[39;49m\u001b[38;5;241;43m*\u001b[39;49m\u001b[43mkwargs\u001b[49m\u001b[43m)\u001b[49m\n",
      "File \u001b[0;32m/opt/conda/lib/python3.10/site-packages/requests/api.py:59\u001b[0m, in \u001b[0;36mrequest\u001b[0;34m(method, url, **kwargs)\u001b[0m\n\u001b[1;32m     55\u001b[0m \u001b[38;5;66;03m# By using the 'with' statement we are sure the session is closed, thus we\u001b[39;00m\n\u001b[1;32m     56\u001b[0m \u001b[38;5;66;03m# avoid leaving sockets open which can trigger a ResourceWarning in some\u001b[39;00m\n\u001b[1;32m     57\u001b[0m \u001b[38;5;66;03m# cases, and look like a memory leak in others.\u001b[39;00m\n\u001b[1;32m     58\u001b[0m \u001b[38;5;28;01mwith\u001b[39;00m sessions\u001b[38;5;241m.\u001b[39mSession() \u001b[38;5;28;01mas\u001b[39;00m session:\n\u001b[0;32m---> 59\u001b[0m     \u001b[38;5;28;01mreturn\u001b[39;00m \u001b[43msession\u001b[49m\u001b[38;5;241;43m.\u001b[39;49m\u001b[43mrequest\u001b[49m\u001b[43m(\u001b[49m\u001b[43mmethod\u001b[49m\u001b[38;5;241;43m=\u001b[39;49m\u001b[43mmethod\u001b[49m\u001b[43m,\u001b[49m\u001b[43m \u001b[49m\u001b[43murl\u001b[49m\u001b[38;5;241;43m=\u001b[39;49m\u001b[43murl\u001b[49m\u001b[43m,\u001b[49m\u001b[43m \u001b[49m\u001b[38;5;241;43m*\u001b[39;49m\u001b[38;5;241;43m*\u001b[39;49m\u001b[43mkwargs\u001b[49m\u001b[43m)\u001b[49m\n",
      "File \u001b[0;32m/opt/conda/lib/python3.10/site-packages/requests/sessions.py:589\u001b[0m, in \u001b[0;36mSession.request\u001b[0;34m(self, method, url, params, data, headers, cookies, files, auth, timeout, allow_redirects, proxies, hooks, stream, verify, cert, json)\u001b[0m\n\u001b[1;32m    584\u001b[0m send_kwargs \u001b[38;5;241m=\u001b[39m {\n\u001b[1;32m    585\u001b[0m     \u001b[38;5;124m\"\u001b[39m\u001b[38;5;124mtimeout\u001b[39m\u001b[38;5;124m\"\u001b[39m: timeout,\n\u001b[1;32m    586\u001b[0m     \u001b[38;5;124m\"\u001b[39m\u001b[38;5;124mallow_redirects\u001b[39m\u001b[38;5;124m\"\u001b[39m: allow_redirects,\n\u001b[1;32m    587\u001b[0m }\n\u001b[1;32m    588\u001b[0m send_kwargs\u001b[38;5;241m.\u001b[39mupdate(settings)\n\u001b[0;32m--> 589\u001b[0m resp \u001b[38;5;241m=\u001b[39m \u001b[38;5;28;43mself\u001b[39;49m\u001b[38;5;241;43m.\u001b[39;49m\u001b[43msend\u001b[49m\u001b[43m(\u001b[49m\u001b[43mprep\u001b[49m\u001b[43m,\u001b[49m\u001b[43m \u001b[49m\u001b[38;5;241;43m*\u001b[39;49m\u001b[38;5;241;43m*\u001b[39;49m\u001b[43msend_kwargs\u001b[49m\u001b[43m)\u001b[49m\n\u001b[1;32m    591\u001b[0m \u001b[38;5;28;01mreturn\u001b[39;00m resp\n",
      "File \u001b[0;32m/opt/conda/lib/python3.10/site-packages/requests/sessions.py:703\u001b[0m, in \u001b[0;36mSession.send\u001b[0;34m(self, request, **kwargs)\u001b[0m\n\u001b[1;32m    700\u001b[0m start \u001b[38;5;241m=\u001b[39m preferred_clock()\n\u001b[1;32m    702\u001b[0m \u001b[38;5;66;03m# Send the request\u001b[39;00m\n\u001b[0;32m--> 703\u001b[0m r \u001b[38;5;241m=\u001b[39m \u001b[43madapter\u001b[49m\u001b[38;5;241;43m.\u001b[39;49m\u001b[43msend\u001b[49m\u001b[43m(\u001b[49m\u001b[43mrequest\u001b[49m\u001b[43m,\u001b[49m\u001b[43m \u001b[49m\u001b[38;5;241;43m*\u001b[39;49m\u001b[38;5;241;43m*\u001b[39;49m\u001b[43mkwargs\u001b[49m\u001b[43m)\u001b[49m\n\u001b[1;32m    705\u001b[0m \u001b[38;5;66;03m# Total elapsed time of the request (approximately)\u001b[39;00m\n\u001b[1;32m    706\u001b[0m elapsed \u001b[38;5;241m=\u001b[39m preferred_clock() \u001b[38;5;241m-\u001b[39m start\n",
      "File \u001b[0;32m/opt/conda/lib/python3.10/site-packages/requests/adapters.py:501\u001b[0m, in \u001b[0;36mHTTPAdapter.send\u001b[0;34m(self, request, stream, timeout, verify, cert, proxies)\u001b[0m\n\u001b[1;32m    486\u001b[0m     resp \u001b[38;5;241m=\u001b[39m conn\u001b[38;5;241m.\u001b[39murlopen(\n\u001b[1;32m    487\u001b[0m         method\u001b[38;5;241m=\u001b[39mrequest\u001b[38;5;241m.\u001b[39mmethod,\n\u001b[1;32m    488\u001b[0m         url\u001b[38;5;241m=\u001b[39murl,\n\u001b[0;32m   (...)\u001b[0m\n\u001b[1;32m    497\u001b[0m         chunked\u001b[38;5;241m=\u001b[39mchunked,\n\u001b[1;32m    498\u001b[0m     )\n\u001b[1;32m    500\u001b[0m \u001b[38;5;28;01mexcept\u001b[39;00m (ProtocolError, \u001b[38;5;167;01mOSError\u001b[39;00m) \u001b[38;5;28;01mas\u001b[39;00m err:\n\u001b[0;32m--> 501\u001b[0m     \u001b[38;5;28;01mraise\u001b[39;00m \u001b[38;5;167;01mConnectionError\u001b[39;00m(err, request\u001b[38;5;241m=\u001b[39mrequest)\n\u001b[1;32m    503\u001b[0m \u001b[38;5;28;01mexcept\u001b[39;00m MaxRetryError \u001b[38;5;28;01mas\u001b[39;00m e:\n\u001b[1;32m    504\u001b[0m     \u001b[38;5;28;01mif\u001b[39;00m \u001b[38;5;28misinstance\u001b[39m(e\u001b[38;5;241m.\u001b[39mreason, ConnectTimeoutError):\n\u001b[1;32m    505\u001b[0m         \u001b[38;5;66;03m# TODO: Remove this in 3.0.0: see #2811\u001b[39;00m\n",
      "\u001b[0;31mConnectionError\u001b[0m: ('Connection aborted.', RemoteDisconnected('Remote end closed connection without response'))"
     ]
    }
   ],
   "source": [
    "chatgpt_list_result_list = []\n",
    "chatgpt_list_cv_result_list_list = []\n",
    "for sys_idx in range(len(system_prompt_list_list)):\n",
    "    system_prompt_list = system_prompt_list_list[sys_idx]\n",
    "    print('cv check')\n",
    "    chatgpt_list_cv_result_list = []\n",
    "    for i in range(len(system_prompt_list)):\n",
    "        system_prompt['content'] = system_prompt_list[i]\n",
    "        cv_test_data = test_data_list[i]\n",
    "        chatgpt_list_result = []\n",
    "        count = 0\n",
    "        for idx,element in tqdm(cv_test_data.iterrows()):\n",
    "            record = {}\n",
    "            record['input'] = element['Utterance Sentence']\n",
    "            record['true_response'] = eval(element['LLM output'])\n",
    "            user_prompt['content'] = element['Utterance Sentence']\n",
    "            gen_result = gen_PET(\n",
    "                path=path,\n",
    "                prompt_id=promptid,\n",
    "                messages=[system_prompt,user_prompt],\n",
    "                # tools=FUNCTIONS,\n",
    "                temperature = 0.\n",
    "            )\n",
    "            try:\n",
    "                record[f'{shot_num}-shot comb{i} prompt'] = eval(gen_result['res']['choices'][0]['message']['content'])\n",
    "            except:\n",
    "                record[f'{shot_num}-shot comb{i} prompt'] = gen_result['res']['choices'][0]['message']['content']\n",
    "            chatgpt_list_result.append(record)\n",
    "            count += 1\n",
    "        chatgpt_list_cv_result_list.append(chatgpt_list_result)\n",
    "    chatgpt_list_cv_result_list_list.append(chatgpt_list_cv_result_list)\n",
    "    print('='*100)\n",
    "    \n",
    "    chatgpt_list_result = []\n",
    "    count = 0\n",
    "    for idx,element in tqdm(test_data.iterrows()):\n",
    "        record = {}\n",
    "        record['input'] = element['Utterance Sentence']\n",
    "        record['true_response'] = eval(element['LLM output'])\n",
    "        user_prompt['content'] = element['Utterance Sentence']\n",
    "        for i in range(len(system_prompt_list)):\n",
    "            system_prompt['content'] = system_prompt_list[i]\n",
    "            gen_result = gen_PET(\n",
    "                path=path,\n",
    "                prompt_id=promptid,\n",
    "                messages=[system_prompt,user_prompt],\n",
    "                # tools=FUNCTIONS,\n",
    "                temperature = 0.\n",
    "            )\n",
    "            try:\n",
    "                record[f'{shot_num}-shot comb{i} prompt'] = eval(gen_result['res']['choices'][0]['message']['content'])\n",
    "            except:\n",
    "                record[f'{shot_num}-shot comb{i} prompt'] = gen_result['res']['choices'][0]['message']['content']\n",
    "            # break\n",
    "        chatgpt_list_result.append(record)\n",
    "        count += 1\n",
    "    chatgpt_list_result_list.append(chatgpt_list_result)\n",
    "    print('='*100)"
   ]
  },
  {
   "cell_type": "code",
   "execution_count": 34,
   "id": "0d4f7fac-62b4-4fd2-abee-bdc9dca09eb7",
   "metadata": {
    "tags": []
   },
   "outputs": [
    {
     "data": {
      "text/plain": [
       "7"
      ]
     },
     "execution_count": 34,
     "metadata": {},
     "output_type": "execute_result"
    }
   ],
   "source": [
    "len(system_prompt_list)"
   ]
  },
  {
   "cell_type": "code",
   "execution_count": 35,
   "id": "ffc584b4-ecdf-46a2-96e4-7ed92b4afa01",
   "metadata": {
    "tags": []
   },
   "outputs": [
    {
     "data": {
      "text/plain": [
       "359"
      ]
     },
     "execution_count": 35,
     "metadata": {},
     "output_type": "execute_result"
    }
   ],
   "source": [
    "count"
   ]
  },
  {
   "cell_type": "code",
   "execution_count": 36,
   "id": "f488b397-ecee-4784-96b5-dae9696a9c64",
   "metadata": {
    "tags": []
   },
   "outputs": [
    {
     "data": {
      "text/plain": [
       "359"
      ]
     },
     "execution_count": 36,
     "metadata": {},
     "output_type": "execute_result"
    }
   ],
   "source": [
    "len(chatgpt_list_result)"
   ]
  },
  {
   "cell_type": "code",
   "execution_count": 39,
   "id": "705b5f47-ac89-43f2-a90d-7459ca975508",
   "metadata": {
    "tags": []
   },
   "outputs": [],
   "source": [
    "chatgpt_list_result = chatgpt_list_result[:357]"
   ]
  },
  {
   "cell_type": "code",
   "execution_count": 40,
   "id": "f8987730-9872-4f3d-ade8-0fa03a1010b0",
   "metadata": {
    "tags": []
   },
   "outputs": [
    {
     "data": {
      "text/plain": [
       "357"
      ]
     },
     "execution_count": 40,
     "metadata": {},
     "output_type": "execute_result"
    }
   ],
   "source": [
    "len(chatgpt_list_result)"
   ]
  },
  {
   "cell_type": "code",
   "execution_count": 41,
   "id": "ecdef47a-bff6-47d3-89fd-6b49259d4002",
   "metadata": {
    "tags": []
   },
   "outputs": [],
   "source": [
    "pre_count = 357"
   ]
  },
  {
   "cell_type": "code",
   "execution_count": 43,
   "id": "adef6492-8984-4ef6-92be-8c4bd6ab8a73",
   "metadata": {
    "tags": []
   },
   "outputs": [
    {
     "name": "stderr",
     "output_type": "stream",
     "text": [
      "541it [03:40,  2.45it/s] \n"
     ]
    }
   ],
   "source": [
    "    count = 0\n",
    "    for idx,element in tqdm(cv_test_data.iterrows()):\n",
    "        if pre_count > count:\n",
    "            count += 1\n",
    "            continue\n",
    "        record = {}\n",
    "        record['input'] = element['Utterance Sentence']\n",
    "        record['true_response'] = eval(element['LLM output'])\n",
    "        user_prompt['content'] = element['Utterance Sentence']\n",
    "        gen_result = gen_PET(\n",
    "            path=path,\n",
    "            prompt_id=promptid,\n",
    "            messages=[system_prompt,user_prompt],\n",
    "            # tools=FUNCTIONS,\n",
    "            temperature = 0.\n",
    "        )\n",
    "        try:\n",
    "            record[f'{shot_num}-shot comb{i} prompt'] = eval(gen_result['res']['choices'][0]['message']['content'])\n",
    "        except:\n",
    "            record[f'{shot_num}-shot comb{i} prompt'] = gen_result['res']['choices'][0]['message']['content']\n",
    "        chatgpt_list_result.append(record)\n",
    "        count += 1\n",
    "    chatgpt_list_cv_result_list.append(chatgpt_list_result)"
   ]
  },
  {
   "cell_type": "code",
   "execution_count": 44,
   "id": "d87f4056-eeb6-4bf4-be2e-6e36db7e607f",
   "metadata": {
    "tags": []
   },
   "outputs": [],
   "source": [
    "chatgpt_list_cv_result_list_list.append(chatgpt_list_cv_result_list)"
   ]
  },
  {
   "cell_type": "code",
   "execution_count": 45,
   "id": "43ca4961-bb37-496e-9000-b1982ef7c9be",
   "metadata": {
    "tags": []
   },
   "outputs": [
    {
     "name": "stderr",
     "output_type": "stream",
     "text": [
      "187it [22:08,  7.10s/it]\n"
     ]
    }
   ],
   "source": [
    "    chatgpt_list_result = []\n",
    "    count = 0\n",
    "    for idx,element in tqdm(test_data.iterrows()):\n",
    "        record = {}\n",
    "        record['input'] = element['Utterance Sentence']\n",
    "        record['true_response'] = eval(element['LLM output'])\n",
    "        user_prompt['content'] = element['Utterance Sentence']\n",
    "        for i in range(len(system_prompt_list)):\n",
    "            system_prompt['content'] = system_prompt_list[i]\n",
    "            gen_result = gen_PET(\n",
    "                path=path,\n",
    "                prompt_id=promptid,\n",
    "                messages=[system_prompt,user_prompt],\n",
    "                # tools=FUNCTIONS,\n",
    "                temperature = 0.\n",
    "            )\n",
    "            try:\n",
    "                record[f'{shot_num}-shot comb{i} prompt'] = eval(gen_result['res']['choices'][0]['message']['content'])\n",
    "            except:\n",
    "                record[f'{shot_num}-shot comb{i} prompt'] = gen_result['res']['choices'][0]['message']['content']\n",
    "            # break\n",
    "        chatgpt_list_result.append(record)\n",
    "        count += 1\n",
    "    chatgpt_list_result_list.append(chatgpt_list_result)"
   ]
  },
  {
   "cell_type": "code",
   "execution_count": null,
   "id": "7905ee9d-b905-4005-94e3-43cd84145a2b",
   "metadata": {},
   "outputs": [],
   "source": []
  },
  {
   "cell_type": "markdown",
   "id": "320bf123-6bbc-4b25-bbe5-6cd4c6b8441c",
   "metadata": {},
   "source": [
    "# 6. Make prompt result"
   ]
  },
  {
   "cell_type": "code",
   "execution_count": 46,
   "id": "9be32cad-389c-48f9-9f8c-7f1c650b6c28",
   "metadata": {
    "tags": []
   },
   "outputs": [],
   "source": [
    "def generate_metric_df_batch(chatgpt_list_result):\n",
    "    df = pd.DataFrame(chatgpt_list_result)\n",
    "\n",
    "    peft_metric_intent_list = []\n",
    "    peft_metric_argument_list = []\n",
    "\n",
    "    cols = list(df.columns)[2:]\n",
    "    for j in range(len(cols)):\n",
    "        peft_metric_intent_list.append([])\n",
    "        peft_metric_argument_list.append([])\n",
    "\n",
    "    for i in range(df.shape[0]):\n",
    "        # print('#' * 100)\n",
    "        # print(i)\n",
    "        # print(\"input: \", df[\"input\"][i])\n",
    "\n",
    "        try:\n",
    "            # true_res = json.loads(df[\"true_response\"][i])[\"content\"]\n",
    "            true_res = df[\"true_response\"][i]\n",
    "            # true_res_agent = true_res[\"agent\"]\n",
    "            true_res_agent = true_res[\"name\"]\n",
    "            try:\n",
    "                true_res_intent = eval(true_res[\"arguments\"])\n",
    "            except:\n",
    "                true_res_intent = true_res[\"arguments\"]\n",
    "\n",
    "        except:\n",
    "            true_res = None\n",
    "            true_res_agent = None\n",
    "            true_res_intent = None\n",
    "\n",
    "        # 정답값이 존재할 경우\n",
    "        for j in range(len(cols)):\n",
    "            if true_res != None:\n",
    "                try:\n",
    "                    # peft_res = df[f'{shot_num[j]}-shot prompt'][i]\n",
    "                    if type(df[cols[j]][i]) == dict:\n",
    "                        peft_res = df[cols[j]][i]\n",
    "                    else:\n",
    "                        peft_res = eval(df[cols[j]][i])\n",
    "                    peft_res_agent = peft_res[\"name\"]\n",
    "                    try:\n",
    "                        peft_res_intent = eval(peft_res[\"arguments\"])\n",
    "                    except:\n",
    "                        peft_res_intent = peft_res[\"arguments\"]\n",
    "                except:\n",
    "                    peft_res = None\n",
    "                    peft_res_agent = None\n",
    "                    peft_res_intent = None\n",
    "                # print(\"peft_res: \", peft_res)\n",
    "\n",
    "                peft_metric_intent_list[j].append(str(true_res_agent) == str(peft_res_agent))\n",
    "                peft_metric_argument_list[j].append(true_res_intent == peft_res_intent)\n",
    "\n",
    "            # 정답값이 존재하지 않을 경우\n",
    "            else:\n",
    "                peft_metric_intent_list[j].append(False)\n",
    "                peft_metric_argument_list[j].append(False)\n",
    "\n",
    "\n",
    "    for j in range(len(cols)):\n",
    "        df[f'{cols[j]} intent metric'] = list(map(int, peft_metric_intent_list[j]))\n",
    "        df[f'{cols[j]} argument metric'] = list(map(int, peft_metric_argument_list[j]))\n",
    "\n",
    "    return df"
   ]
  },
  {
   "cell_type": "code",
   "execution_count": 47,
   "id": "c1cd44d8-3b6a-4633-baae-687f94ba00d4",
   "metadata": {},
   "outputs": [],
   "source": [
    "for rslt_idx in range(len(chatgpt_list_result_list)):\n",
    "    df_result = generate_metric_df_batch(chatgpt_list_result_list[rslt_idx])\n",
    "    df_result.to_excel(f'evaluation/hjs/call_plan_classifier/output_chatGPT4o_240912_v4_example_form{rslt_idx+1}_{shot_num}shot_optim_test.xlsx', index=False)"
   ]
  },
  {
   "cell_type": "code",
   "execution_count": 48,
   "id": "fbf22afc-3596-4b7b-bb26-f99e46daf9e1",
   "metadata": {},
   "outputs": [],
   "source": [
    "for rslt_idx in range(len(chatgpt_list_cv_result_list_list)):\n",
    "    chatgpt_list_cv_result_list = chatgpt_list_cv_result_list_list[rslt_idx]\n",
    "    for i in range(len(chatgpt_list_cv_result_list)):\n",
    "        df_result = generate_metric_df_batch(chatgpt_list_cv_result_list[i])\n",
    "        df_result.to_excel(f'evaluation/hjs/call_plan_classifier/output_chatGPT4o_240912_v4_example_form{rslt_idx+1}_{shot_num}shot_comb{i}_optim_cvtest.xlsx', index=False)"
   ]
  },
  {
   "cell_type": "code",
   "execution_count": null,
   "id": "304ef437-1b7b-46a6-bd03-ccb314037506",
   "metadata": {},
   "outputs": [],
   "source": []
  }
 ],
 "metadata": {
  "kernelspec": {
   "display_name": "llm_py312",
   "language": "python",
   "name": "python3"
  },
  "language_info": {
   "codemirror_mode": {
    "name": "ipython",
    "version": 3
   },
   "file_extension": ".py",
   "mimetype": "text/x-python",
   "name": "python",
   "nbconvert_exporter": "python",
   "pygments_lexer": "ipython3",
   "version": "3.12.7"
  }
 },
 "nbformat": 4,
 "nbformat_minor": 5
}
